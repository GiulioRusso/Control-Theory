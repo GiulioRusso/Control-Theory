{
 "cells": [
  {
   "cell_type": "markdown",
   "metadata": {},
   "source": [
    "# Nyquist diagram\n",
    "\n",
    "The **Nyquist diagram** is a graphical representation used in control systems to analyze the frequency response of a system. It provides valuable insights into the stability and performance characteristics of a system by depicting the system's response to sinusoidal inputs over a range of frequencies. The horizontal axis typically represents the real part of the frequency response, while the vertical axis represents the imaginary part.\n",
    "  \n",
    "Key points on the Nyquist diagram:\n",
    "\n",
    "1. **Stability:** The Nyquist diagram helps determine the stability of a system. If the Nyquist plot encircles the critical point (-1, 0) in a counter-clockwise direction, the system is stable. Encircling the point in a clockwise direction indicates instability.\n",
    "\n",
    "2. **Gain and Phase Margin:** The distance from the Nyquist plot to the critical point provides information about gain and phase margins. Larger margins typically indicate a more stable system.\n",
    "\n",
    "3. **Frequency Response:** The shape of the Nyquist diagram reveals how the system responds to different frequencies. Oscillations or loops in the plot can indicate resonant frequencies.\n",
    "\n",
    "![Nyquist example](images/nyquist-plot.png)"
   ]
  },
  {
   "cell_type": "markdown",
   "metadata": {},
   "source": [
    "# Nyquist diagram of G(s) examples"
   ]
  },
  {
   "cell_type": "code",
   "execution_count": 16,
   "metadata": {},
   "outputs": [
    {
     "data": {
      "application/vnd.jupyter.widget-view+json": {
       "model_id": "d6805faf55dc4788a1313488d95e1e0d",
       "version_major": 2,
       "version_minor": 0
      },
      "text/plain": [
       "interactive(children=(FloatSlider(value=1.0, description='K', max=5.0, min=0.1), Output()), _dom_classes=('wid…"
      ]
     },
     "metadata": {},
     "output_type": "display_data"
    },
    {
     "data": {
      "text/plain": [
       "<function __main__.plot_nyquist(K)>"
      ]
     },
     "execution_count": 16,
     "metadata": {},
     "output_type": "execute_result"
    }
   ],
   "source": [
    "import numpy as np\n",
    "import matplotlib.pyplot as plt\n",
    "import ipywidgets as widgets\n",
    "from ipywidgets import interact\n",
    "import control as ctrl\n",
    "\n",
    "def plot_nyquist(K):\n",
    "    # Define the transfer function G(s) = K\n",
    "    G = ctrl.TransferFunction([K], [1])\n",
    "\n",
    "    # Nyquist plot\n",
    "    ctrl.nyquist_plot(G)\n",
    "    plt.title('Nyquist Diagram G(s) = K')\n",
    "    plt.xlabel('Re(G(jω))')\n",
    "    plt.ylabel('Im(G(jω))')\n",
    "    plt.axis('equal')\n",
    "    plt.xlim([-2, 5])\n",
    "    plt.ylim([-2, 2])\n",
    "\n",
    "\n",
    "# Create an interactive slider for K\n",
    "interact(plot_nyquist, K=widgets.FloatSlider(min=0.1, max=5, step=0.1, value=1))\n"
   ]
  },
  {
   "cell_type": "code",
   "execution_count": 26,
   "metadata": {},
   "outputs": [
    {
     "data": {
      "application/vnd.jupyter.widget-view+json": {
       "model_id": "e8dab0275c8d4556a41437fc2d37feb0",
       "version_major": 2,
       "version_minor": 0
      },
      "text/plain": [
       "interactive(children=(FloatSlider(value=1.0, description='K', max=5.0, min=0.1), Output()), _dom_classes=('wid…"
      ]
     },
     "metadata": {},
     "output_type": "display_data"
    },
    {
     "data": {
      "text/plain": [
       "<function __main__.plot_nyquist(K)>"
      ]
     },
     "execution_count": 26,
     "metadata": {},
     "output_type": "execute_result"
    }
   ],
   "source": [
    "import numpy as np\n",
    "import matplotlib.pyplot as plt\n",
    "import ipywidgets as widgets\n",
    "from ipywidgets import interact\n",
    "import control as ctrl\n",
    "\n",
    "def plot_nyquist(K):\n",
    "    # Define the transfer function G(s) = K/s\n",
    "    G = ctrl.TransferFunction([K], [1, 0])\n",
    "\n",
    "    # Nyquist plot\n",
    "    ctrl.nyquist_plot(G)\n",
    "    plt.title('Nyquist Diagram G(s) = K/s')\n",
    "    plt.xlabel('Re(G(jω))')\n",
    "    plt.ylabel('Im(G(jω))')\n",
    "\n",
    "    # Plot poles and zeros\n",
    "    poles = G.pole()\n",
    "    zeros = G.zeros()\n",
    "    plt.plot(np.real(poles), np.imag(poles), 'rx', label='Poles')\n",
    "    plt.plot(np.real(zeros), np.imag(zeros), 'bo', label='Zeros')\n",
    "\n",
    "    plt.axis('equal')\n",
    "    plt.xlim([-2, 20])\n",
    "    plt.ylim([-20, 20])\n",
    "\n",
    "\n",
    "# Create an interactive slider for K\n",
    "interact(plot_nyquist, K=widgets.FloatSlider(min=0.1, max=5, step=0.1, value=1))\n"
   ]
  },
  {
   "cell_type": "code",
   "execution_count": 25,
   "metadata": {},
   "outputs": [
    {
     "data": {
      "application/vnd.jupyter.widget-view+json": {
       "model_id": "b4a43d8f232146c4b4d6262bc6072fcf",
       "version_major": 2,
       "version_minor": 0
      },
      "text/plain": [
       "interactive(children=(FloatSlider(value=1.0, description='K', max=5.0, min=0.1), Output()), _dom_classes=('wid…"
      ]
     },
     "metadata": {},
     "output_type": "display_data"
    },
    {
     "data": {
      "text/plain": [
       "<function __main__.plot_nyquist(K)>"
      ]
     },
     "execution_count": 25,
     "metadata": {},
     "output_type": "execute_result"
    }
   ],
   "source": [
    "import numpy as np\n",
    "import matplotlib.pyplot as plt\n",
    "import ipywidgets as widgets\n",
    "from ipywidgets import interact\n",
    "import control as ctrl\n",
    "\n",
    "def plot_nyquist(K):\n",
    "    # Define the transfer function G(s) = K*s\n",
    "    G = ctrl.TransferFunction([K, 0], [1])\n",
    "\n",
    "    # Nyquist plot\n",
    "    ctrl.nyquist_plot(G)\n",
    "    plt.title('Nyquist Diagram G(s) = K*s')\n",
    "    plt.xlabel('Re(G(jω))')\n",
    "    plt.ylabel('Im(G(jω))')\n",
    "\n",
    "    # Plot poles and zeros\n",
    "    poles = G.pole()\n",
    "    zeros = G.zeros()\n",
    "    plt.plot(np.real(poles), np.imag(poles), 'rx', label='Poles')\n",
    "    plt.plot(np.real(zeros), np.imag(zeros), 'bo', label='Zeros')\n",
    "\n",
    "    plt.axis('equal')\n",
    "    plt.xlim([-2, 20])\n",
    "    plt.ylim([-20, 20])\n",
    "\n",
    "\n",
    "# Create an interactive slider for K\n",
    "interact(plot_nyquist, K=widgets.FloatSlider(min=0.1, max=5, step=0.1, value=1))\n"
   ]
  },
  {
   "cell_type": "code",
   "execution_count": 33,
   "metadata": {},
   "outputs": [
    {
     "data": {
      "application/vnd.jupyter.widget-view+json": {
       "model_id": "366b8167df7d4a3493b7584ad554383a",
       "version_major": 2,
       "version_minor": 0
      },
      "text/plain": [
       "interactive(children=(FloatSlider(value=1.0, description='K', max=5.0, min=0.1), Output()), _dom_classes=('wid…"
      ]
     },
     "metadata": {},
     "output_type": "display_data"
    },
    {
     "data": {
      "text/plain": [
       "<function __main__.plot_nyquist(K)>"
      ]
     },
     "execution_count": 33,
     "metadata": {},
     "output_type": "execute_result"
    }
   ],
   "source": [
    "import numpy as np\n",
    "import matplotlib.pyplot as plt\n",
    "import ipywidgets as widgets\n",
    "from ipywidgets import interact\n",
    "import control as ctrl\n",
    "\n",
    "def plot_nyquist(K):\n",
    "    # Define the transfer function G(s) = K/(s^2)\n",
    "    G = ctrl.TransferFunction([K], [1, 0, 0])\n",
    "\n",
    "    # Nyquist plot\n",
    "    ctrl.nyquist_plot(G)\n",
    "    plt.title('Nyquist Diagram G(s) = K/(s^2)')\n",
    "    plt.xlabel('Re(G(jω))')\n",
    "    plt.ylabel('Im(G(jω))')\n",
    "\n",
    "    # Plot poles and zeros\n",
    "    poles = G.pole()\n",
    "    zeros = G.zeros()\n",
    "    plt.plot(np.real(poles), np.imag(poles), 'rx', label='Poles')\n",
    "    plt.plot(np.real(zeros), np.imag(zeros), 'bo', label='Zeros')\n",
    "\n",
    "    plt.axis('equal')\n",
    "    plt.xlim([-20, 20])\n",
    "    plt.ylim([-20, 20])\n",
    "\n",
    "\n",
    "# Create an interactive slider for K\n",
    "interact(plot_nyquist, K=widgets.FloatSlider(min=0.1, max=5, step=0.1, value=1))\n"
   ]
  },
  {
   "cell_type": "code",
   "execution_count": 42,
   "metadata": {},
   "outputs": [
    {
     "data": {
      "application/vnd.jupyter.widget-view+json": {
       "model_id": "3c20289f1c0545509ae72e9df0fa5bd6",
       "version_major": 2,
       "version_minor": 0
      },
      "text/plain": [
       "interactive(children=(FloatSlider(value=1.0, description='K', max=5.0, min=0.1), Output()), _dom_classes=('wid…"
      ]
     },
     "metadata": {},
     "output_type": "display_data"
    },
    {
     "data": {
      "text/plain": [
       "<function __main__.plot_nyquist(K)>"
      ]
     },
     "execution_count": 42,
     "metadata": {},
     "output_type": "execute_result"
    }
   ],
   "source": [
    "import numpy as np\n",
    "import matplotlib.pyplot as plt\n",
    "import ipywidgets as widgets\n",
    "from ipywidgets import interact\n",
    "import control as ctrl\n",
    "\n",
    "def plot_nyquist(K):\n",
    "    # Define the transfer function G(s) = K*(s^2)\n",
    "    G = ctrl.TransferFunction([K, 0, 0], [1])\n",
    "\n",
    "    # Nyquist plot\n",
    "    ctrl.nyquist_plot(G)\n",
    "    plt.title('Nyquist Diagram G(s) = K*(s^2)')\n",
    "    plt.xlabel('Re(G(jω))')\n",
    "    plt.ylabel('Im(G(jω))')\n",
    "\n",
    "    # Plot poles and zeros\n",
    "    poles = G.pole()\n",
    "    zeros = G.zeros()\n",
    "    plt.plot(np.real(poles), np.imag(poles), 'rx', label='Poles')\n",
    "    plt.plot(np.real(zeros), np.imag(zeros), 'bo', label='Zeros')\n",
    "    \n",
    "    plt.axis('equal')\n",
    "    plt.xlim([-20, 20])\n",
    "    plt.ylim([-20, 20])\n",
    "\n",
    "\n",
    "# Create an interactive slider for K\n",
    "interact(plot_nyquist, K=widgets.FloatSlider(min=0.1, max=5, step=0.1, value=1))\n"
   ]
  },
  {
   "cell_type": "code",
   "execution_count": 39,
   "metadata": {},
   "outputs": [
    {
     "data": {
      "application/vnd.jupyter.widget-view+json": {
       "model_id": "a666ba97591045c0b654e7eba9c60734",
       "version_major": 2,
       "version_minor": 0
      },
      "text/plain": [
       "interactive(children=(FloatSlider(value=1.0, description='K', max=5.0, min=0.1), FloatSlider(value=1.0, descri…"
      ]
     },
     "metadata": {},
     "output_type": "display_data"
    },
    {
     "data": {
      "text/plain": [
       "<function __main__.plot_nyquist(K, tau_p)>"
      ]
     },
     "execution_count": 39,
     "metadata": {},
     "output_type": "execute_result"
    }
   ],
   "source": [
    "import numpy as np\n",
    "import matplotlib.pyplot as plt\n",
    "import ipywidgets as widgets\n",
    "from ipywidgets import interact\n",
    "import control as ctrl\n",
    "\n",
    "def plot_nyquist(K, tau_p):\n",
    "    # Define the transfer function G(s) = K/(tau_p*s+1)\n",
    "    G = ctrl.TransferFunction([K], [tau_p, 1])\n",
    "\n",
    "    # Nyquist plot\n",
    "    ctrl.nyquist_plot(G)\n",
    "    plt.title('Nyquist Diagram G(s) = K/(tau_p*s+1)')\n",
    "    plt.xlabel('Re(G(jω))')\n",
    "    plt.ylabel('Im(G(jω))')\n",
    "\n",
    "    # Plot poles and zeros\n",
    "    poles = G.pole()\n",
    "    zeros = G.zeros()\n",
    "    plt.plot(np.real(poles), np.imag(poles), 'rx', label='Poles')\n",
    "    plt.plot(np.real(zeros), np.imag(zeros), 'bo', label='Zeros')\n",
    "    \n",
    "    plt.axis('equal')\n",
    "    plt.xlim([-5, 5])\n",
    "    plt.ylim([-5, 5])\n",
    "\n",
    "\n",
    "# Create an interactive slider for K\n",
    "interact(plot_nyquist, K=widgets.FloatSlider(min=0.1, max=5, step=0.1, value=1),\n",
    "         tau_p=widgets.FloatSlider(min=0.1, max=5, step=0.1, value=1))\n"
   ]
  },
  {
   "cell_type": "code",
   "execution_count": 40,
   "metadata": {},
   "outputs": [
    {
     "data": {
      "application/vnd.jupyter.widget-view+json": {
       "model_id": "9853196891b745f296951ed23b7750c6",
       "version_major": 2,
       "version_minor": 0
      },
      "text/plain": [
       "interactive(children=(FloatSlider(value=1.0, description='K', max=5.0, min=-5.0), FloatSlider(value=1.0, descr…"
      ]
     },
     "metadata": {},
     "output_type": "display_data"
    },
    {
     "data": {
      "text/plain": [
       "<function __main__.plot_nyquist(K, tau_z)>"
      ]
     },
     "execution_count": 40,
     "metadata": {},
     "output_type": "execute_result"
    }
   ],
   "source": [
    "import numpy as np\n",
    "import matplotlib.pyplot as plt\n",
    "import ipywidgets as widgets\n",
    "from ipywidgets import interact\n",
    "import control as ctrl\n",
    "\n",
    "def plot_nyquist(K, tau_z):\n",
    "    # Define the transfer function G(s) = K*(tau_z*s+1)\n",
    "    G = ctrl.TransferFunction([K*tau_z, K], [1])\n",
    "\n",
    "    # Nyquist plot\n",
    "    ctrl.nyquist_plot(G)\n",
    "    plt.title('Nyquist Diagram G(s) = K*(tau_z*s+1)')\n",
    "    plt.xlabel('Re(G(jω))')\n",
    "    plt.ylabel('Im(G(jω))')\n",
    "\n",
    "    # Plot poles and zeros\n",
    "    poles = G.pole()\n",
    "    zeros = G.zeros()\n",
    "    plt.plot(np.real(poles), np.imag(poles), 'rx', label='Poles')\n",
    "    plt.plot(np.real(zeros), np.imag(zeros), 'bo', label='Zeros')\n",
    "    \n",
    "    plt.axis('equal')\n",
    "    plt.xlim([-5, 5])\n",
    "    plt.ylim([-5, 5])\n",
    "\n",
    "\n",
    "# Create an interactive slider for K\n",
    "interact(plot_nyquist, K=widgets.FloatSlider(min=-5, max=5, step=0.1, value=1),\n",
    "         tau_z=widgets.FloatSlider(min=0.1, max=5, step=0.1, value=1))\n"
   ]
  },
  {
   "cell_type": "code",
   "execution_count": 32,
   "metadata": {},
   "outputs": [
    {
     "data": {
      "application/vnd.jupyter.widget-view+json": {
       "model_id": "7ca4de7a4a2047c3b3ad49a60ef0b8d0",
       "version_major": 2,
       "version_minor": 0
      },
      "text/plain": [
       "interactive(children=(FloatSlider(value=1.0, description='K', max=5.0, min=0.1), FloatSlider(value=1.0, descri…"
      ]
     },
     "metadata": {},
     "output_type": "display_data"
    },
    {
     "data": {
      "text/plain": [
       "<function __main__.plot_nyquist(K, tau_z, tau_p)>"
      ]
     },
     "execution_count": 32,
     "metadata": {},
     "output_type": "execute_result"
    }
   ],
   "source": [
    "import numpy as np\n",
    "import matplotlib.pyplot as plt\n",
    "import ipywidgets as widgets\n",
    "from ipywidgets import interact\n",
    "import control as ctrl\n",
    "\n",
    "def plot_nyquist(K, tau_z, tau_p):\n",
    "    # Define the transfer function G(s) = K*(tau_z*s+1)/(tau*s+1)\n",
    "    G = ctrl.TransferFunction([K*tau_z, K], [tau_p, 1])\n",
    "\n",
    "    # Nyquist plot\n",
    "    ctrl.nyquist_plot(G)\n",
    "    plt.title('Nyquist Diagram G(s) = K*(tau_z*s+1)/(tau*s+1)')\n",
    "    plt.xlabel('Re(G(jω))')\n",
    "    plt.ylabel('Im(G(jω))')\n",
    "\n",
    "    # Plot poles and zeros\n",
    "    poles = G.pole()\n",
    "    zeros = G.zeros()\n",
    "    plt.plot(np.real(poles), np.imag(poles), 'rx', label='Poles')\n",
    "    plt.plot(np.real(zeros), np.imag(zeros), 'bo', label='Zeros')\n",
    "    \n",
    "    plt.axis('equal')\n",
    "    plt.xlim([-5, 5])\n",
    "    plt.ylim([-5, 5])\n",
    "\n",
    "\n",
    "# Create an interactive slider for K\n",
    "interact(plot_nyquist, K=widgets.FloatSlider(min=0.1, max=5, step=0.1, value=1),\n",
    "         tau_z=widgets.FloatSlider(min=0.1, max=5, step=0.1, value=1),\n",
    "         tau_p=widgets.FloatSlider(min=0.1, max=5, step=0.1, value=1))\n"
   ]
  },
  {
   "cell_type": "code",
   "execution_count": 30,
   "metadata": {},
   "outputs": [
    {
     "data": {
      "application/vnd.jupyter.widget-view+json": {
       "model_id": "eff3627e91f842a5a6749d0476b60c76",
       "version_major": 2,
       "version_minor": 0
      },
      "text/plain": [
       "interactive(children=(FloatSlider(value=1.0, description='K', max=5.0, min=0.1), FloatSlider(value=1.0, descri…"
      ]
     },
     "metadata": {},
     "output_type": "display_data"
    },
    {
     "data": {
      "text/plain": [
       "<function __main__.plot_nyquist_second_order(K, zeta, wn)>"
      ]
     },
     "execution_count": 30,
     "metadata": {},
     "output_type": "execute_result"
    }
   ],
   "source": [
    "import numpy as np\n",
    "import matplotlib.pyplot as plt\n",
    "import ipywidgets as widgets\n",
    "from ipywidgets import interact\n",
    "import control as ctrl\n",
    "\n",
    "def plot_nyquist_second_order(K, zeta, wn):\n",
    "    # Define the transfer function G(s) = K*wn^2 / (s^2 + 2*zeta*wn*s + wn^2)\n",
    "    G = ctrl.TransferFunction([K * wn**2], [1, 2 * zeta * wn, wn**2])\n",
    "\n",
    "    # Frequency range for the Nyquist plot\n",
    "    omega = np.logspace(-2, 2, 1000)\n",
    "\n",
    "    # Nyquist plot\n",
    "    ctrl.nyquist_plot(G)\n",
    "    plt.title(f'Nyquist Diagram G(s) = K*wn^2 / (s^2 + 2*zeta*wn*s + wn^2)')\n",
    "    plt.xlabel('Re(G(jω))')\n",
    "    plt.ylabel('Im(G(jω))')\n",
    "\n",
    "    # Plot poles and zeros\n",
    "    poles = G.pole()\n",
    "    zeros = G.zeros()\n",
    "    plt.plot(np.real(poles), np.imag(poles), 'rx', label='Poles')\n",
    "    plt.plot(np.real(zeros), np.imag(zeros), 'bo', label='Zeros')\n",
    "    \n",
    "    plt.axis('equal')\n",
    "    plt.xlim([-5, 5])\n",
    "    plt.ylim([-5, 5])\n",
    "\n",
    "# Create interactive sliders for K, zeta, and wn\n",
    "interact(plot_nyquist_second_order, K=widgets.FloatSlider(min=0.1, max=5, step=0.1, value=1),\n",
    "         zeta=widgets.FloatSlider(min=0.1, max=2, step=0.1, value=1),\n",
    "         wn=widgets.FloatSlider(min=0.1, max=5, step=0.1, value=1))\n"
   ]
  },
  {
   "cell_type": "code",
   "execution_count": 52,
   "metadata": {},
   "outputs": [
    {
     "data": {
      "application/vnd.jupyter.widget-view+json": {
       "model_id": "8a42643d562e40c8a9c1eb9ddadb2a8d",
       "version_major": 2,
       "version_minor": 0
      },
      "text/plain": [
       "interactive(children=(FloatSlider(value=1.0, description='K', max=5.0, min=0.1), FloatSlider(value=-1.0, descr…"
      ]
     },
     "metadata": {},
     "output_type": "display_data"
    },
    {
     "data": {
      "text/plain": [
       "<function __main__.plot_nyquist(K, real_part)>"
      ]
     },
     "execution_count": 52,
     "metadata": {},
     "output_type": "execute_result"
    }
   ],
   "source": [
    "import numpy as np\n",
    "import matplotlib.pyplot as plt\n",
    "import ipywidgets as widgets\n",
    "from ipywidgets import interact\n",
    "import control as ctrl\n",
    "\n",
    "def plot_nyquist(K, real_part):\n",
    "    # Define the transfer function G(s) = K/(s - real_part)\n",
    "    G = ctrl.TransferFunction([K], [1, -real_part])\n",
    "\n",
    "    # Nyquist plot\n",
    "    ctrl.nyquist_plot(G)\n",
    "    plt.title('Nyquist Diagram G(s) = K/(s - real_part)')\n",
    "    plt.xlabel('Re(G(jω))')\n",
    "    plt.ylabel('Im(G(jω))')\n",
    "\n",
    "    # Plot poles and zeros\n",
    "    poles = G.pole()\n",
    "    zeros = G.zeros()\n",
    "    plt.plot(np.real(poles), np.imag(poles), 'rx', label='Poles')\n",
    "    plt.plot(np.real(zeros), np.imag(zeros), 'bo', label='Zeros')\n",
    "    \n",
    "    plt.axis('equal')\n",
    "    plt.xlim([-2, 2])\n",
    "    plt.ylim([-2, 2])\n",
    "\n",
    "# Create an interactive slider for K and real_part\n",
    "interact(plot_nyquist, K=widgets.FloatSlider(min=0.1, max=5, step=0.1, value=1),\n",
    "         real_part=widgets.FloatSlider(min=-5, max=5, step=0.1, value=-1))\n"
   ]
  },
  {
   "cell_type": "code",
   "execution_count": 14,
   "metadata": {},
   "outputs": [
    {
     "data": {
      "application/vnd.jupyter.widget-view+json": {
       "model_id": "d8ba106948e2441b8716317abccf9f8e",
       "version_major": 2,
       "version_minor": 0
      },
      "text/plain": [
       "interactive(children=(FloatSlider(value=1.0, description='K', max=5.0, min=0.1), FloatSlider(value=-1.0, descr…"
      ]
     },
     "metadata": {},
     "output_type": "display_data"
    },
    {
     "data": {
      "text/plain": [
       "<function __main__.plot_nyquist(K, real_part_1, real_part_2)>"
      ]
     },
     "execution_count": 14,
     "metadata": {},
     "output_type": "execute_result"
    }
   ],
   "source": [
    "import numpy as np\n",
    "import matplotlib.pyplot as plt\n",
    "import ipywidgets as widgets\n",
    "from ipywidgets import interact\n",
    "import control as ctrl\n",
    "\n",
    "def plot_nyquist(K, real_part_1, real_part_2):\n",
    "    # Define the transfer function G(s) = K/((s - real_part_1) * (s - real_part_2))\n",
    "    G = ctrl.TransferFunction([K], [1, -(real_part_1 + real_part_2), (real_part_1 * real_part_2)])\n",
    "\n",
    "    # Nyquist plot\n",
    "    ctrl.nyquist_plot(G)\n",
    "    plt.title('Nyquist Diagram G(s) = K/((s - real_part_1) * (s - real_part_2))')\n",
    "    plt.xlabel('Re(G(jω))')\n",
    "    plt.ylabel('Im(G(jω))')\n",
    "\n",
    "    # Plot poles and zeros\n",
    "    poles = G.pole()\n",
    "    zeros = G.zeros()\n",
    "    plt.plot(np.real(poles), np.imag(poles), 'rx', label='Poles')\n",
    "    plt.plot(np.real(zeros), np.imag(zeros), 'bo', label='Zeros')\n",
    "    \n",
    "    plt.axis('equal')\n",
    "    plt.xlim([-2, 2])\n",
    "    plt.ylim([-2, 2])\n",
    "\n",
    "# Create an interactive slider for K and real_part\n",
    "interact(plot_nyquist, K=widgets.FloatSlider(min=0.1, max=5, step=0.1, value=1),\n",
    "         real_part_1=widgets.FloatSlider(min=-5, max=5, step=0.1, value=-1),\n",
    "         real_part_2=widgets.FloatSlider(min=-5, max=5, step=0.1, value=-1))\n"
   ]
  },
  {
   "cell_type": "markdown",
   "metadata": {},
   "source": []
  },
  {
   "cell_type": "code",
   "execution_count": 19,
   "metadata": {},
   "outputs": [
    {
     "data": {
      "application/vnd.jupyter.widget-view+json": {
       "model_id": "5ba2b44a03884b0c95f6b765d90da25b",
       "version_major": 2,
       "version_minor": 0
      },
      "text/plain": [
       "interactive(children=(FloatSlider(value=1.0, description='K', max=5.0, min=0.1), FloatSlider(value=-1.0, descr…"
      ]
     },
     "metadata": {},
     "output_type": "display_data"
    },
    {
     "data": {
      "text/plain": [
       "<function __main__.plot_nyquist(K, real_part_1, real_part_2, real_part_3)>"
      ]
     },
     "execution_count": 19,
     "metadata": {},
     "output_type": "execute_result"
    }
   ],
   "source": [
    "import numpy as np\n",
    "import matplotlib.pyplot as plt\n",
    "import ipywidgets as widgets\n",
    "from ipywidgets import interact\n",
    "import control as ctrl\n",
    "\n",
    "def plot_nyquist(K, real_part_1, real_part_2, real_part_3):\n",
    "    # Define the transfer function G(s) = K/((s - real_part_1) * (s - real_part_2) * (s - real_part_3))\n",
    "    G = ctrl.TransferFunction([K], [1, -(real_part_1 + real_part_2 + real_part_3), (real_part_1 * real_part_2 + real_part_1 * real_part_3 + real_part_2 * real_part_3), -(real_part_1 * real_part_2 * real_part_3)])\n",
    "\n",
    "    # Nyquist plot\n",
    "    ctrl.nyquist_plot(G)\n",
    "\n",
    "    # Extracting poles\n",
    "    poles = G.pole()\n",
    "\n",
    "    # Plotting the Nyquist plot\n",
    "    plt.title('Nyquist Plot G(s) = K/((s - real_part_1) * (s - real_part_2) * (s - real_part_3))')\n",
    "    plt.xlabel('Re(G(jω))')\n",
    "    plt.ylabel('Im(G(jω))')\n",
    "\n",
    "    # Plot poles and zeros\n",
    "    poles = G.pole()\n",
    "    zeros = G.zeros()\n",
    "    plt.plot(np.real(poles), np.imag(poles), 'rx', label='Poles')\n",
    "    plt.plot(np.real(zeros), np.imag(zeros), 'bo', label='Zeros')\n",
    "\n",
    "    plt.grid(True)\n",
    "    plt.axis('equal')\n",
    "    plt.legend()\n",
    "    plt.show()\n",
    "\n",
    "\n",
    "# Create an interactive slider for K and real_part\n",
    "interact(plot_nyquist, K=widgets.FloatSlider(min=0.1, max=5, step=0.1, value=1),\n",
    "         real_part_1=widgets.FloatSlider(min=-5, max=5, step=0.1, value=-1),\n",
    "         real_part_2=widgets.FloatSlider(min=-5, max=5, step=0.1, value=-1),\n",
    "         real_part_3=widgets.FloatSlider(min=-5, max=5, step=0.1, value=-1))\n"
   ]
  },
  {
   "cell_type": "markdown",
   "metadata": {},
   "source": [
    "# Nyquist plot and Gain and Phase Margins\n",
    "\n",
    "- The gain margin is a measure of the system's stability and represents the amount by which the gain of the system can be increased before the system becomes unstable. It is expressed in decibels (dB) and is defined as GM = 20 * log10(1/|G(jωcp)|), where G(jωc) is the magnitude of the open-loop transfer function at the phase crossover frequency (ωcp).\n",
    "A higher gain margin indicates greater stability. If the gain margin is large, it means the system can tolerate more gain variations without instability.\n",
    "On the Nyquist plot, the gain margin corresponds to the distance from the point where the Nyquist plot intersects the critical point (-1, 0) to the unity gain (0 dB) line. A larger distance indicates a larger gain margin.\n",
    "\n",
    "- The phase margin is a measure of the system's stability and represents the amount by which the phase of the system can be increased before the system becomes unstable. It is expressed in degrees and is defined as PM = ∠G(jωcg) - (-180°), where ∠G(jωcg) is the phase angle of the open-loop transfer function at the gain crossover frequency (ωcg).\n",
    "A higher phase margin indicates greater stability. If the phase margin is large, it means the system can tolerate more phase lag without instability.\n",
    "On the Nyquist plot, the phase margin corresponds to the phase angle at the point where the Nyquist plot intersects the unity gain (0 dB) line. A larger phase margin indicates a larger phase difference between the system and instability.\n",
    "\n",
    "<br>\n",
    "<img src=\"images/crossover-frequency.jpg\" alt=\"Crossover Frequencies\" width=\"35%\" height=\"35%\">\n",
    "<br>\n",
    "<img src=\"images/nyquist-margins.png\" alt=\"Nyquist Margins\" width=\"40%\" height=\"40%\">\n",
    "<br>\n",
    "\n",
    "\n",
    "Those values provide insight into how much the system can be perturbed (in terms of gain or phase) before it becomes unstable. Analyzing the Nyquist plot allows engineers to visually assess the stability margins and make design decisions to improve system stability"
   ]
  },
  {
   "cell_type": "code",
   "execution_count": 5,
   "metadata": {},
   "outputs": [
    {
     "data": {
      "application/vnd.jupyter.widget-view+json": {
       "model_id": "8f7725f4d92442cabd5bf995714504cb",
       "version_major": 2,
       "version_minor": 0
      },
      "text/plain": [
       "interactive(children=(FloatSlider(value=1.0, description='K', max=5.0, min=0.1), FloatSlider(value=-1.0, descr…"
      ]
     },
     "metadata": {},
     "output_type": "display_data"
    },
    {
     "data": {
      "text/plain": [
       "<function __main__.plot_nyquist(K, real_part_1, real_part_2, real_part_3)>"
      ]
     },
     "execution_count": 5,
     "metadata": {},
     "output_type": "execute_result"
    }
   ],
   "source": [
    "import numpy as np\n",
    "import matplotlib.pyplot as plt\n",
    "import ipywidgets as widgets\n",
    "from ipywidgets import interact\n",
    "import control as ctrl\n",
    "\n",
    "def plot_nyquist(K, real_part_1, real_part_2, real_part_3):\n",
    "    # Define the transfer function G(s) = K/((s - real_part_1) * (s - real_part_2) * (s - real_part_3))\n",
    "    G = ctrl.TransferFunction([K], [1, -(real_part_1 + real_part_2 + real_part_3), (real_part_1 * real_part_2 + real_part_1 * real_part_3 + real_part_2 * real_part_3), -(real_part_1 * real_part_2 * real_part_3)])\n",
    "\n",
    "    # Nyquist plot\n",
    "    ctrl.nyquist_plot(G)\n",
    "\n",
    "    # Extracting poles\n",
    "    poles = G.pole()\n",
    "\n",
    "    # Plotting the Nyquist plot\n",
    "    plt.title('Nyquist Plot G(s) = K/((s - real_part_1) * (s - real_part_2) * (s - real_part_3))')\n",
    "    plt.xlabel('Re(G(jω))')\n",
    "    plt.ylabel('Im(G(jω))')\n",
    "\n",
    "    # Plot poles and zeros\n",
    "    poles = G.pole()\n",
    "    zeros = G.zeros()\n",
    "    plt.plot(np.real(poles), np.imag(poles), 'rx', label='Poles')\n",
    "    plt.plot(np.real(zeros), np.imag(zeros), 'bo', label='Zeros')\n",
    "\n",
    "    # Plot the unit circle\n",
    "    unit_circle_points = np.linspace(0, 2 * np.pi, 100)\n",
    "    unit_circle_x = np.cos(unit_circle_points)\n",
    "    unit_circle_y = np.sin(unit_circle_points)\n",
    "\n",
    "    # Plot Gain and Phase Margins\n",
    "    gm, pm, wg, wp = ctrl.margin(G)\n",
    "    plt.plot([0, -1/np.abs(gm)], [0, 0], color='orange', linestyle='--', label=f'1/|gm|={1/np.abs(gm):.2f}')\n",
    "\n",
    "    arch_points = np.linspace(-np.pi, -np.pi + np.deg2rad(pm), 100)\n",
    "    arch_x = np.cos(arch_points)\n",
    "    arch_y = np.sin(arch_points)\n",
    "    plt.plot(arch_x, arch_y, color='red', linestyle='--', label=f'pm={pm:.2f}°')\n",
    "\n",
    "\n",
    "    plt.plot(unit_circle_x, unit_circle_y, color='gray', linestyle='--', alpha=0.5, label='Unit Circumference')\n",
    "\n",
    "    plt.grid(True)\n",
    "    plt.axis('equal')\n",
    "    plt.legend()\n",
    "    plt.show()\n",
    "\n",
    "\n",
    "# Create an interactive slider for K and real_part\n",
    "interact(plot_nyquist, K=widgets.FloatSlider(min=0.1, max=5, step=0.1, value=1),\n",
    "         real_part_1=widgets.FloatSlider(min=-5, max=5, step=0.1, value=-1),\n",
    "         real_part_2=widgets.FloatSlider(min=-5, max=5, step=0.1, value=-1),\n",
    "         real_part_3=widgets.FloatSlider(min=-5, max=5, step=0.1, value=-1))\n"
   ]
  },
  {
   "cell_type": "markdown",
   "metadata": {},
   "source": [
    "## Nyquist Criterion for Stability\n",
    "\n",
    "1. **Critical Point:**\n",
    "   - Locate the point (-1, 0) on the complex plane.\n",
    "\n",
    "2. **Stability Assessment:**\n",
    "   - If the Nyquist plot encircles the critical point in a counterclockwise direction (CCW), the system is stable.\n",
    "   - If the Nyquist plot does not encircle the critical point or encircles it in a clockwise direction (CW), the system is unstable.\n",
    "\n",
    "3. **Connection to Encirclements:**\n",
    "   - Each encirclement of the critical point corresponds to a pole or zero in the system.\n",
    "\n",
    "4. **Special Case:**\n",
    "   - If the Nyquist plot crosses the real axis (0, 0) to the left of the critical point (-1, 0), it is a special case indicating a marginally stable system.\n",
    "\n",
    "5. **Connection to Gain and Phase Margins:**\n",
    "   - The distance from the Nyquist plot to the critical point represents the gain margin (`GM`), indicating how much the gain can be increased before instability.\n",
    "   - The angle between the Nyquist plot and the real axis at the critical point represents the phase margin (`PM`), indicating how much phase can be increased before instability.\n",
    "\n",
    "The Nyquist Criterion visually checks for the counterclockwise encirclement of the critical point to determine the stability of a control system in the frequency domain.\n",
    "\n",
    "## How to count the encirclement?\n",
    "An easier way to determine the number of encirclements of the -1+j0 point is to simply draw a line out from the point, in any directions. If you count the number of times that the Nyquist path crosses the line in the clockwise direction and subtract the number of times it crosses in the counterclockwise direction, you get the number of clockwise encirclements of the -1+j0 point. A negative balance number indicates counterclockwise encirclements\n",
    "\n",
    "<br>\n",
    "\n",
    "Example:\n",
    "<br>\n",
    "<img src=\"images/encirclements-1.jpg\" alt=\"Nyquist encirclements\" width=\"40%\" height=\"40%\">\n",
    "<br>\n",
    "<img src=\"images/encirclements-2.jpg\" alt=\"Nyquist encirclements\" width=\"40%\" height=\"40%\">\n",
    "<br>\n",
    "The direction of the line draw is arbitrary.  The images shows the same Nyquist path, but a different line. In this case there are two clockwise crossings (red) and two counterclockwise crossings, for a total of zero encirclements, as expected. No matter in which direction the line is drawn."
   ]
  },
  {
   "cell_type": "code",
   "execution_count": 8,
   "metadata": {},
   "outputs": [
    {
     "data": {
      "application/vnd.jupyter.widget-view+json": {
       "model_id": "a5a1518c6b08474db6891606d17e4a24",
       "version_major": 2,
       "version_minor": 0
      },
      "text/plain": [
       "interactive(children=(FloatSlider(value=1.0, description='K', max=5.0, min=0.1), FloatSlider(value=-1.0, descr…"
      ]
     },
     "metadata": {},
     "output_type": "display_data"
    },
    {
     "data": {
      "text/plain": [
       "<function __main__.plot_nyquist(K, real_part_1, real_part_2, real_part_3)>"
      ]
     },
     "execution_count": 8,
     "metadata": {},
     "output_type": "execute_result"
    }
   ],
   "source": [
    "import numpy as np\n",
    "import matplotlib.pyplot as plt\n",
    "import ipywidgets as widgets\n",
    "from ipywidgets import interact\n",
    "import control as ctrl\n",
    "\n",
    "def plot_nyquist(K, real_part_1, real_part_2, real_part_3):\n",
    "    # Define the transfer function G(s) = K/((s - real_part_1) * (s - real_part_2) * (s - real_part_3))\n",
    "    G = ctrl.TransferFunction([K], [1, -(real_part_1 + real_part_2 + real_part_3), (real_part_1 * real_part_2 + real_part_1 * real_part_3 + real_part_2 * real_part_3), -(real_part_1 * real_part_2 * real_part_3)])\n",
    "\n",
    "    # Nyquist plot\n",
    "    ctrl.nyquist_plot(G)\n",
    "\n",
    "    # Extracting poles\n",
    "    poles = G.pole()\n",
    "\n",
    "    # Plotting the Nyquist plot\n",
    "    plt.title('Nyquist Plot G(s) = K/((s - real_part_1) * (s - real_part_2) * (s - real_part_3))')\n",
    "    plt.xlabel('Re(G(jω))')\n",
    "    plt.ylabel('Im(G(jω))')\n",
    "\n",
    "    # Plot poles and zeros\n",
    "    poles = G.pole()\n",
    "    zeros = G.zeros()\n",
    "    plt.plot(np.real(poles), np.imag(poles), 'rx', label='Poles')\n",
    "    plt.plot(np.real(zeros), np.imag(zeros), 'bo', label='Zeros')\n",
    "\n",
    "    # Plot vertical line to evaluate encirclements\n",
    "    plt.plot([-1, -1], [0, 1], linestyle='--', color='blue')\n",
    "\n",
    "    plt.grid(True)\n",
    "    plt.axis('equal')\n",
    "    plt.legend()\n",
    "    plt.show()\n",
    "\n",
    "\n",
    "# Create an interactive slider for K and real_part\n",
    "interact(plot_nyquist, K=widgets.FloatSlider(min=0.1, max=5, step=0.1, value=1),\n",
    "         real_part_1=widgets.FloatSlider(min=-5, max=5, step=0.1, value=-1),\n",
    "         real_part_2=widgets.FloatSlider(min=-5, max=5, step=0.1, value=-1),\n",
    "         real_part_3=widgets.FloatSlider(min=-5, max=5, step=0.1, value=-1))\n"
   ]
  }
 ],
 "metadata": {
  "kernelspec": {
   "display_name": "Python 3",
   "language": "python",
   "name": "python3"
  },
  "language_info": {
   "codemirror_mode": {
    "name": "ipython",
    "version": 3
   },
   "file_extension": ".py",
   "mimetype": "text/x-python",
   "name": "python",
   "nbconvert_exporter": "python",
   "pygments_lexer": "ipython3",
   "version": "3.9.5"
  }
 },
 "nbformat": 4,
 "nbformat_minor": 2
}
