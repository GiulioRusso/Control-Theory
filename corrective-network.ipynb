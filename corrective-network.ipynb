{
 "cells": [
  {
   "cell_type": "markdown",
   "metadata": {},
   "source": [
    "# Corrective Newtork\n",
    "\n",
    "A corrective network, also known as a compensator or controller, is a component added to a control system to modify its performance and improve its stability, transient response, and steady-state error. The primary goal of a corrective network is to achieve desired system behavior or specifications in the presence of disturbances, uncertainties, and variations."
   ]
  },
  {
   "cell_type": "markdown",
   "metadata": {},
   "source": [
    "# Lead Controller\n",
    "\n",
    "- Advantage: Increase Phase Margin around ωm enhancing system stability, improves settling times and reduces overshoot for a faster and smoother response\n",
    "- Disadvantage: Increase gain for ω > 1/τ\n",
    "\n",
    "<br>\n",
    "<img src=\"images/lead.png\" alt=\"Lead Controller\" width=\"40%\" height=\"40%\">\n",
    "\n"
   ]
  },
  {
   "cell_type": "code",
   "execution_count": 56,
   "metadata": {},
   "outputs": [
    {
     "data": {
      "application/vnd.jupyter.widget-view+json": {
       "model_id": "9eeb262378574560804f2b339894b960",
       "version_major": 2,
       "version_minor": 0
      },
      "text/plain": [
       "interactive(children=(FloatSlider(value=0.1, description='Alpha', max=1.0, min=0.1), FloatSlider(value=1.0, de…"
      ]
     },
     "metadata": {},
     "output_type": "display_data"
    },
    {
     "data": {
      "text/plain": [
       "<function __main__.plot_lead_controller(alpha, tau)>"
      ]
     },
     "execution_count": 56,
     "metadata": {},
     "output_type": "execute_result"
    }
   ],
   "source": [
    "import numpy as np\n",
    "import matplotlib.pyplot as plt\n",
    "from scipy import signal\n",
    "import ipywidgets as widgets\n",
    "from ipywidgets import interact\n",
    "from IPython.display import display, clear_output\n",
    "\n",
    "def plot_lead_controller(alpha, tau):\n",
    "    # Define the lead compensator transfer function\n",
    "    num_lead = [tau, 1]\n",
    "    den_lead = [alpha * tau, 1]\n",
    "    lead_sys = signal.TransferFunction(num_lead, den_lead)\n",
    "\n",
    "    # Frequency range for Bode plot\n",
    "    freq_range = np.logspace(-2, 2, 1000)\n",
    "    _, magnitude, phase = signal.bode(lead_sys, freq_range)\n",
    "\n",
    "    # Clear previous plot\n",
    "    clear_output(wait=True)\n",
    "\n",
    "    # Plot Bode diagram\n",
    "    plt.figure(figsize=(10, 6))\n",
    "\n",
    "    # Magnitude plot\n",
    "    plt.subplot(2, 1, 1)\n",
    "    plt.semilogx(freq_range, magnitude)\n",
    "    plt.title('Bode Diagram')\n",
    "    plt.xlabel('Frequency (rad/s)')\n",
    "    plt.ylabel('Magnitude (dB)')\n",
    "    plt.ylim(-10, 30)\n",
    "    plt.grid(True)\n",
    "\n",
    "    # Peak value\n",
    "    peak_index = np.argmax(magnitude)\n",
    "    peak_magnitude = magnitude[peak_index]\n",
    "\n",
    "    # Draw the tau influence\n",
    "    plt.plot([1e-2, 1/tau], [0, 0], linestyle='--', color='green', label='τ break')\n",
    "\n",
    "    # Draw the alpha * tau influence\n",
    "    plt.plot([1/(alpha * tau), 1e2], [peak_magnitude, peak_magnitude], linestyle='--', color='lightgreen', label='τ•α break')\n",
    "\n",
    "    # Draw the connection\n",
    "    plt.plot([1/tau, 1/(alpha * tau)], [0, peak_magnitude], linestyle='--', color='gray')\n",
    "\n",
    "    plt.legend()\n",
    "\n",
    "    # Phase plot\n",
    "    plt.subplot(2, 1, 2)\n",
    "    plt.semilogx(freq_range, phase * np.pi/180)\n",
    "    plt.xlabel('Frequency (rad/s)')\n",
    "    plt.ylabel('Phase (rad)')\n",
    "\n",
    "    # Mean pulse\n",
    "    wm = 1/(tau * np.sqrt(alpha))\n",
    "\n",
    "    plt.plot([wm, wm], [-np.pi, np.pi], linestyle='--', color='blue', label='ωm')\n",
    "    \n",
    "    # Set custom yticks for phase between pi and -pi\n",
    "    plt.yticks(np.arange(-np.pi, np.pi + np.pi/2, np.pi/2),\n",
    "               ['-π', '-π/2', '0', 'π/2', 'π'])\n",
    "    \n",
    "    plt.grid(True)\n",
    "    plt.tight_layout()\n",
    "    plt.legend()\n",
    "    plt.show()\n",
    "\n",
    "# Create sliders for alpha and tau\n",
    "interact(plot_lead_controller,\n",
    "         alpha=widgets.FloatSlider(min=0.1, max=1, step=0.1, value=0.0, description='Alpha'),\n",
    "         tau=widgets.FloatSlider(min=0.1, max=10, step=0.1, value=1.0, description='Tau'))\n"
   ]
  },
  {
   "cell_type": "markdown",
   "metadata": {},
   "source": [
    "## Lead controller effect on closed loop"
   ]
  },
  {
   "cell_type": "code",
   "execution_count": 52,
   "metadata": {},
   "outputs": [
    {
     "data": {
      "application/vnd.jupyter.widget-view+json": {
       "model_id": "21a31a5961434c009be5a43bdb546c30",
       "version_major": 2,
       "version_minor": 0
      },
      "text/plain": [
       "interactive(children=(FloatSlider(value=-1.0, description='Pole 1:', max=5.0, min=-5.0), FloatSlider(value=-2.…"
      ]
     },
     "metadata": {},
     "output_type": "display_data"
    },
    {
     "data": {
      "text/plain": [
       "<function __main__.plot_feedback_system(pole1, pole2, zero, gain, alpha, tau)>"
      ]
     },
     "execution_count": 52,
     "metadata": {},
     "output_type": "execute_result"
    }
   ],
   "source": [
    "import numpy as np\n",
    "import matplotlib.pyplot as plt\n",
    "import ipywidgets as widgets\n",
    "from ipywidgets import interact\n",
    "import control as ctrl\n",
    "\n",
    "# Function to plot step response and Bode diagram\n",
    "def plot_feedback_system(pole1, pole2, zero, gain, alpha, tau):\n",
    "    # Define the transfer function G(s) = K*(s - zero) / [(s - pole1)*(s - pole2)]\n",
    "    G = ctrl.TransferFunction([gain, -gain * zero], [1, -(pole1 + pole2), pole1 * pole2])\n",
    "\n",
    "    # Define the controller R(s) = (1 + s*tau) / (1 + s*alpha*tau)\n",
    "    R = ctrl.TransferFunction([1, tau], [1, alpha * tau])\n",
    "\n",
    "    # Calculate the feedback system T(s) = (R*G) / (1 + R*G)\n",
    "    T = ctrl.feedback(R * G, 1)\n",
    "\n",
    "    # Time vector for step response\n",
    "    time, response = ctrl.step_response(T)\n",
    "\n",
    "    # Frequency range for Bode plot\n",
    "    freq_range = np.logspace(-2, 2, 1000)\n",
    "    _, magnitude, phase = signal.bode(signal.TransferFunction(T.num[0][0], T.den[0][0]), freq_range)\n",
    "    #_, magnitude, phase = signal.bode(signal.TransferFunction(np.array(T.num), np.array(T.den)), freq_range)\n",
    "\n",
    "    # Plot step response\n",
    "    plt.figure(figsize=(12, 4))\n",
    "    plt.subplot(1, 2, 2)\n",
    "    plt.plot(time, response)\n",
    "    plt.title('Step Response of closed loop')\n",
    "    plt.xlabel('Time')\n",
    "    plt.ylabel('Amplitude')\n",
    "    plt.grid(True)\n",
    "\n",
    "    # Plot Bode diagram\n",
    "\n",
    "    # Magnitude plot\n",
    "    plt.subplot(2, 2, 1)\n",
    "    plt.semilogx(freq_range, magnitude)\n",
    "    plt.title('Bode Diagram of closed loop')\n",
    "    plt.xlabel('Frequency (rad/s)')\n",
    "    plt.ylabel('Magnitude (dB)')\n",
    "    plt.ylim(-30, 10)\n",
    "    plt.grid(True)\n",
    "\n",
    "    # Phase plot\n",
    "    plt.subplot(2, 2, 3)\n",
    "    plt.semilogx(freq_range, phase * np.pi/180)\n",
    "    plt.xlabel('Frequency (rad/s)')\n",
    "    plt.ylabel('Phase (rad)')\n",
    "    \n",
    "    # Set custom yticks for phase between pi and -pi\n",
    "    plt.yticks(np.arange(-np.pi, np.pi + np.pi/2, np.pi/2),\n",
    "               ['-π', '-π/2', '0', 'π/2', 'π'])\n",
    "    \n",
    "    plt.grid(True)\n",
    "    plt.tight_layout()\n",
    "    plt.show()\n",
    "\n",
    "    # Pole-zero map\n",
    "    plt.figure(figsize=(12, 4))\n",
    "    poles = G.pole()\n",
    "    zeros = G.zero()\n",
    "    plt.scatter(np.real(poles), np.imag(poles), marker='x', color='red', label='Poles')\n",
    "    plt.scatter(np.real(zeros), np.imag(zeros), marker='o', color='blue', label='Zeros')\n",
    "    plt.title('Pole-Zero Map of G(s)')\n",
    "    plt.xlabel('Real')\n",
    "    plt.ylabel('Imaginary')\n",
    "    plt.axhline(0, color='black',linewidth=0.5)\n",
    "    plt.axvline(0, color='black',linewidth=0.5)\n",
    "    plt.grid(True)\n",
    "    plt.legend()\n",
    "\n",
    "# Create sliders for poles, zero, gain, alpha, and tau\n",
    "pole1_slider = widgets.FloatSlider(min=-5, max=5, step=0.1, value=-1, description='Pole 1:')\n",
    "pole2_slider = widgets.FloatSlider(min=-5, max=5, step=0.1, value=-2, description='Pole 2:')\n",
    "zero_slider = widgets.FloatSlider(min=-5, max=5, step=0.1, value=1, description='Zero:')\n",
    "gain_slider = widgets.FloatSlider(min=0.1, max=10, step=0.1, value=1, description='Gain:')\n",
    "alpha_slider = widgets.FloatSlider(min=0, max=1, step=0.1, value=1, description='Alpha:')\n",
    "tau_slider = widgets.FloatSlider(min=0.1, max=10, step=0.1, value=1, description='Tau:')\n",
    "\n",
    "# Create interactive plot\n",
    "interact(plot_feedback_system,\n",
    "         pole1=pole1_slider, pole2=pole2_slider,\n",
    "         zero=zero_slider, gain=gain_slider,\n",
    "         alpha=alpha_slider, tau=tau_slider)\n"
   ]
  },
  {
   "cell_type": "markdown",
   "metadata": {},
   "source": [
    "# Delay Controller\n",
    "\n",
    "- Reduce gain for  ω > 1/τ\n",
    "- Reduce Phase Margin around  ω and time delays can lead to instability in control systems\n",
    "\n",
    "<br>\n",
    "<img src=\"images/delay.png\" alt=\"Delay Controller\" width=\"40%\" height=\"40%\">\n",
    "\n"
   ]
  },
  {
   "cell_type": "code",
   "execution_count": 58,
   "metadata": {},
   "outputs": [
    {
     "data": {
      "application/vnd.jupyter.widget-view+json": {
       "model_id": "ba479138b904475e8e4c13c18f31d28e",
       "version_major": 2,
       "version_minor": 0
      },
      "text/plain": [
       "interactive(children=(FloatSlider(value=0.1, description='Alpha', max=1.0, min=0.1), FloatSlider(value=1.0, de…"
      ]
     },
     "metadata": {},
     "output_type": "display_data"
    },
    {
     "data": {
      "text/plain": [
       "<function __main__.plot_lead_controller(alpha, tau)>"
      ]
     },
     "execution_count": 58,
     "metadata": {},
     "output_type": "execute_result"
    }
   ],
   "source": [
    "import numpy as np\n",
    "import matplotlib.pyplot as plt\n",
    "from scipy import signal\n",
    "import ipywidgets as widgets\n",
    "from ipywidgets import interact\n",
    "from IPython.display import display, clear_output\n",
    "\n",
    "def plot_lead_controller(alpha, tau):\n",
    "    # Define the lead compensator transfer function\n",
    "    num_lead = [alpha * tau, 1]\n",
    "    den_lead = [tau, 1]\n",
    "    lead_sys = signal.TransferFunction(num_lead, den_lead)\n",
    "\n",
    "    # Frequency range for Bode plot\n",
    "    freq_range = np.logspace(-2, 2, 1000)\n",
    "    _, magnitude, phase = signal.bode(lead_sys, freq_range)\n",
    "\n",
    "    # Clear previous plot\n",
    "    clear_output(wait=True)\n",
    "\n",
    "    # Plot Bode diagram\n",
    "    plt.figure(figsize=(10, 6))\n",
    "\n",
    "    # Magnitude plot\n",
    "    plt.subplot(2, 1, 1)\n",
    "    plt.semilogx(freq_range, magnitude)\n",
    "    plt.title('Bode Diagram')\n",
    "    plt.xlabel('Frequency (rad/s)')\n",
    "    plt.ylabel('Magnitude (dB)')\n",
    "    plt.ylim(-30, 10)\n",
    "    plt.grid(True)\n",
    "\n",
    "    # Peak value\n",
    "    peak_index = np.argmin(magnitude)\n",
    "    peak_magnitude = magnitude[peak_index]\n",
    "\n",
    "    # Draw the tau influence\n",
    "    plt.plot([1e-2, 1/tau], [0, 0], linestyle='--', color='green', label='τ break')\n",
    "\n",
    "    # Draw the alpha * tau influence\n",
    "    plt.plot([1/(alpha * tau), 1e2], [peak_magnitude, peak_magnitude], linestyle='--', color='lightgreen', label='τ•α break')\n",
    "\n",
    "    # Draw the connection\n",
    "    plt.plot([1/tau, 1/(alpha * tau)], [0, peak_magnitude], linestyle='--', color='gray')\n",
    "\n",
    "    plt.legend()\n",
    "\n",
    "    # Phase plot\n",
    "    plt.subplot(2, 1, 2)\n",
    "    plt.semilogx(freq_range, phase * np.pi/180)\n",
    "    plt.xlabel('Frequency (rad/s)')\n",
    "    plt.ylabel('Phase (rad)')\n",
    "\n",
    "    # Mean pulse\n",
    "    wm = 1/(tau * np.sqrt(alpha))\n",
    "\n",
    "    plt.plot([wm, wm], [-np.pi, np.pi], linestyle='--', color='blue', label='ωm')\n",
    "    \n",
    "    # Set custom yticks for phase between pi and -pi\n",
    "    plt.yticks(np.arange(-np.pi, np.pi + np.pi/2, np.pi/2),\n",
    "               ['-π', '-π/2', '0', 'π/2', 'π'])\n",
    "    \n",
    "    plt.grid(True)\n",
    "    plt.tight_layout()\n",
    "    plt.legend()\n",
    "    plt.show()\n",
    "\n",
    "# Create sliders for alpha and tau\n",
    "interact(plot_lead_controller,\n",
    "         alpha=widgets.FloatSlider(min=0.1, max=1, step=0.1, value=0.0, description='Alpha'),\n",
    "         tau=widgets.FloatSlider(min=0.1, max=10, step=0.1, value=1.0, description='Tau'))\n"
   ]
  },
  {
   "cell_type": "markdown",
   "metadata": {},
   "source": [
    "## Delay controller effect on closed loop"
   ]
  },
  {
   "cell_type": "code",
   "execution_count": 53,
   "metadata": {},
   "outputs": [
    {
     "data": {
      "application/vnd.jupyter.widget-view+json": {
       "model_id": "1cfd67dc7f354515bbf69d475041df57",
       "version_major": 2,
       "version_minor": 0
      },
      "text/plain": [
       "interactive(children=(FloatSlider(value=-1.0, description='Pole 1:', max=5.0, min=-5.0), FloatSlider(value=-2.…"
      ]
     },
     "metadata": {},
     "output_type": "display_data"
    },
    {
     "data": {
      "text/plain": [
       "<function __main__.plot_feedback_system(pole1, pole2, zero, gain, alpha, tau)>"
      ]
     },
     "execution_count": 53,
     "metadata": {},
     "output_type": "execute_result"
    }
   ],
   "source": [
    "import numpy as np\n",
    "import matplotlib.pyplot as plt\n",
    "import ipywidgets as widgets\n",
    "from ipywidgets import interact\n",
    "import control as ctrl\n",
    "\n",
    "# Function to plot step response and Bode diagram\n",
    "def plot_feedback_system(pole1, pole2, zero, gain, alpha, tau):\n",
    "    # Define the transfer function G(s) = K*(s - zero) / [(s - pole1)*(s - pole2)]\n",
    "    G = ctrl.TransferFunction([gain, -gain * zero], [1, -(pole1 + pole2), pole1 * pole2])\n",
    "\n",
    "    # Define the controller R(s) = (1 + s*alpha*tau) / (1 + s*tau)\n",
    "    R = ctrl.TransferFunction([1, alpha * tau], [1, tau])\n",
    "\n",
    "    # Calculate the feedback system T(s) = (R*G) / (1 + R*G)\n",
    "    T = ctrl.feedback(R * G, 1)\n",
    "\n",
    "    # Time vector for step response\n",
    "    time, response = ctrl.step_response(T)\n",
    "\n",
    "    # Frequency range for Bode plot\n",
    "    freq_range = np.logspace(-2, 2, 1000)\n",
    "    _, magnitude, phase = signal.bode(signal.TransferFunction(T.num[0][0], T.den[0][0]), freq_range)\n",
    "    #_, magnitude, phase = signal.bode(signal.TransferFunction(np.array(T.num), np.array(T.den)), freq_range)\n",
    "\n",
    "    # Plot step response\n",
    "    plt.figure(figsize=(12, 4))\n",
    "    plt.subplot(1, 2, 2)\n",
    "    plt.plot(time, response)\n",
    "    plt.title('Step Response of closed loop')\n",
    "    plt.xlabel('Time')\n",
    "    plt.ylabel('Amplitude')\n",
    "    plt.grid(True)\n",
    "\n",
    "    # Plot Bode diagram\n",
    "\n",
    "    # Magnitude plot\n",
    "    plt.subplot(2, 2, 1)\n",
    "    plt.semilogx(freq_range, magnitude)\n",
    "    plt.title('Bode Diagram of closed loop')\n",
    "    plt.xlabel('Frequency (rad/s)')\n",
    "    plt.ylabel('Magnitude (dB)')\n",
    "    plt.ylim(-30, 10)\n",
    "    plt.grid(True)\n",
    "\n",
    "    # Phase plot\n",
    "    plt.subplot(2, 2, 3)\n",
    "    plt.semilogx(freq_range, phase * np.pi/180)\n",
    "    plt.xlabel('Frequency (rad/s)')\n",
    "    plt.ylabel('Phase (rad)')\n",
    "    \n",
    "    # Set custom yticks for phase between pi and -pi\n",
    "    plt.yticks(np.arange(-np.pi, np.pi + np.pi/2, np.pi/2),\n",
    "               ['-π', '-π/2', '0', 'π/2', 'π'])\n",
    "    \n",
    "    plt.grid(True)\n",
    "    plt.tight_layout()\n",
    "    plt.show()\n",
    "\n",
    "    # Pole-zero map\n",
    "    plt.figure(figsize=(12, 4))\n",
    "    poles = G.pole()\n",
    "    zeros = G.zero()\n",
    "    plt.scatter(np.real(poles), np.imag(poles), marker='x', color='red', label='Poles')\n",
    "    plt.scatter(np.real(zeros), np.imag(zeros), marker='o', color='blue', label='Zeros')\n",
    "    plt.title('Pole-Zero Map of G(s)')\n",
    "    plt.xlabel('Real')\n",
    "    plt.ylabel('Imaginary')\n",
    "    plt.axhline(0, color='black',linewidth=0.5)\n",
    "    plt.axvline(0, color='black',linewidth=0.5)\n",
    "    plt.grid(True)\n",
    "    plt.legend()\n",
    "\n",
    "# Create sliders for poles, zero, gain, alpha, and tau\n",
    "pole1_slider = widgets.FloatSlider(min=-5, max=5, step=0.1, value=-1, description='Pole 1:')\n",
    "pole2_slider = widgets.FloatSlider(min=-5, max=5, step=0.1, value=-2, description='Pole 2:')\n",
    "zero_slider = widgets.FloatSlider(min=-5, max=5, step=0.1, value=1, description='Zero:')\n",
    "gain_slider = widgets.FloatSlider(min=0.1, max=10, step=0.1, value=1, description='Gain:')\n",
    "alpha_slider = widgets.FloatSlider(min=0, max=1, step=0.1, value=1, description='Alpha:')\n",
    "tau_slider = widgets.FloatSlider(min=0.1, max=10, step=0.1, value=1, description='Tau:')\n",
    "\n",
    "# Create interactive plot\n",
    "interact(plot_feedback_system,\n",
    "         pole1=pole1_slider, pole2=pole2_slider,\n",
    "         zero=zero_slider, gain=gain_slider,\n",
    "         alpha=alpha_slider, tau=tau_slider)\n"
   ]
  }
 ],
 "metadata": {
  "kernelspec": {
   "display_name": "Python 3",
   "language": "python",
   "name": "python3"
  },
  "language_info": {
   "codemirror_mode": {
    "name": "ipython",
    "version": 3
   },
   "file_extension": ".py",
   "mimetype": "text/x-python",
   "name": "python",
   "nbconvert_exporter": "python",
   "pygments_lexer": "ipython3",
   "version": "3.9.5"
  }
 },
 "nbformat": 4,
 "nbformat_minor": 2
}
