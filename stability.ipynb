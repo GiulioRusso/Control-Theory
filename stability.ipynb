{
 "cells": [
  {
   "cell_type": "markdown",
   "metadata": {},
   "source": [
    "# Stability\n",
    "\n",
    "In control theory, stability is a crucial concept that determines the behavior of a system over time. A stable system is one that, under certain conditions, tends to return to its equilibrium or desired state after experiencing disturbances.\n",
    "\n",
    "-  **Instability:** An unstable system is characterized by unbounded responses to disturbances or initial conditions. In other words, if the system is disturbed slightly, the response grows without bound, leading to an unpredictable and often undesirable behavior.\n",
    "\n",
    "- **Stability:** Stability implies that a system, when perturbed, eventually settles back to a steady state.\n",
    "\n",
    "- **Asymptotic Stability:** Asymptotic stability refers to a system that not only returns to its equilibrium state but does so in a way that the response approaches the steady state as time goes to infinity. Mathematically, a system is asymptotically stable if its trajectories converge to the equilibrium point as time increases.\n",
    "\n",
    "In control design, achieving stability is a fundamental objective to ensure that a controlled system behaves predictably and reliably in the presence of external influences and disturbances.\n",
    "\n",
    "The stability domain are mapped between continous and discrete time domain as follow: <br> <br>\n",
    "![Stability domain mapping](images/stability-domain.jpg)"
   ]
  },
  {
   "cell_type": "markdown",
   "metadata": {},
   "source": [
    "## Stability Study in Continuous Time\n",
    "\n",
    "This interactive plot displays the pole-zero plot for a system in continuous time. You can adjust the real and imaginary parts of three poles using sliders. The stability of the system is determined based on the locations of the poles.\n",
    "\n",
    "### Function Description:\n",
    "\n",
    "The left subplot shows the pole-zero plot with markers for each pole. The real and imaginary axes are highlighted, and the plot is limited to the range of [-2, 2] for both axes.\n",
    "\n",
    "The right subplot provides stability information based on the pole locations. The stability can be categorized as follows:\n",
    "\n",
    "- **Instability:** The system is unstable if any pole has a positive real part or if there are repeated poles on the imaginary axis.\n",
    "\n",
    "- **Stability:** The system is stable if all poles on the imaginary axis have a real part equal to zero.\n",
    "\n",
    "- **Asymptotic Stability:** The system is asymptotically stable if all poles have a negative real part.\n",
    "\n",
    "- **Unknown Stability:** If none of the above conditions is met, the stability is marked as unknown.\n",
    "\n",
    "### Instructions:\n",
    "\n",
    "Adjust the sliders for the real and imaginary parts of three poles to observe the changes in the pole-zero plot and stability information.\n",
    "\n",
    "### Sliders:\n",
    "\n",
    "- **Real Pole 1/2/3:** Adjust the real part of the first, second, and third poles.\n",
    "  - *Range:* -2 to 2 with a step size of 0.1.\n",
    "\n",
    "- **Imag Pole 1/2/3:** Adjust the imaginary part of the first, second, and third poles.\n",
    "  - *Range:* -2 to 2 with a step size of 0.1.\n",
    "\n",
    "Feel free to experiment with different pole configurations to understand the stability characteristics of the system in continuous time.\n"
   ]
  },
  {
   "cell_type": "code",
   "execution_count": 1,
   "metadata": {},
   "outputs": [
    {
     "data": {
      "application/vnd.jupyter.widget-view+json": {
       "model_id": "e795f534a7d24dd491e778c3808c8ec7",
       "version_major": 2,
       "version_minor": 0
      },
      "text/plain": [
       "interactive(children=(FloatSlider(value=0.0, description='Real Pole 1', max=2.0, min=-2.0), FloatSlider(value=…"
      ]
     },
     "execution_count": 1,
     "metadata": {},
     "output_type": "execute_result"
    }
   ],
   "source": [
    "import numpy as np\n",
    "import matplotlib.pyplot as plt\n",
    "from matplotlib.widgets import Slider\n",
    "from ipywidgets import interactive, widgets\n",
    "\n",
    "def plot_poles(real_pole1, imag_pole1, real_pole2, imag_pole2, real_pole3, imag_pole3):\n",
    "    plt.figure(figsize=(10, 8))\n",
    "    gs = plt.GridSpec(1, 2, width_ratios=[4, 1])\n",
    "\n",
    "    # Plot poles\n",
    "    ax = plt.subplot(gs[0])\n",
    "    poles = np.array([[real_pole1, imag_pole1], [real_pole2, imag_pole2], [real_pole3, imag_pole3]])\n",
    "    colors = ['darkred', 'red', 'lightcoral']\n",
    "    for i in range(3):\n",
    "        ax.scatter(poles[i, 0], poles[i, 1], color=colors[i], marker='x', label=f'Pole {i+1}')\n",
    "\n",
    "    # Highlight real and imaginary axes\n",
    "    ax.axhline(0, color='black', linewidth=0.5)\n",
    "    ax.axvline(0, color='black', linewidth=0.5)\n",
    "\n",
    "    # Set plot limits\n",
    "    ax.set_xlim([-2, 2])\n",
    "    ax.set_ylim([-2, 2])\n",
    "    ax.set_aspect('equal', 'box')\n",
    "\n",
    "    plt.title('Pole-Zero Plot')\n",
    "    plt.xlabel('Real')\n",
    "    plt.ylabel('Imaginary')\n",
    "    plt.legend()\n",
    "    plt.grid(True)\n",
    "\n",
    "    # Add stability information text box\n",
    "    stability_text = get_stability_text(real_pole1, imag_pole1, real_pole2, imag_pole2, real_pole3, imag_pole3)\n",
    "    text_ax = plt.subplot(gs[1])\n",
    "    text_ax.text(0.1, 0.5, stability_text, fontsize=12, verticalalignment='center')\n",
    "    text_ax.axis('off')\n",
    "\n",
    "    plt.show()\n",
    "\n",
    "def get_stability_text(real_pole1, imag_pole1, real_pole2, imag_pole2, real_pole3, imag_pole3):\n",
    "    \n",
    "    real_part_poles = [real_pole1, real_pole2, real_pole3]\n",
    "\n",
    "    if any(np.real(p) > 0 for p in real_part_poles):\n",
    "        return \"Instability\"\n",
    "    elif ((real_pole1 == 0 and real_pole2 == 0 and imag_pole1 == imag_pole2) or\n",
    "          (real_pole1 == 0 and real_pole3 == 0 and imag_pole1 == imag_pole3) or\n",
    "          (real_pole2 == 0 and real_pole3 == 0 and imag_pole2 == imag_pole3)):\n",
    "        return \"Instability\"\n",
    "    elif any(p.real == 0 for p in real_part_poles) and all(p.real < 0 for p in real_part_poles if p.real != 0):\n",
    "        return \"Stability\"\n",
    "    elif all(p.real < 0 for p in real_part_poles):\n",
    "        return \"Asymptotic Stability\"\n",
    "    else:\n",
    "        return \"Unknown Stability\"\n",
    "\n",
    "# Create sliders for poles\n",
    "pole_sliders = interactive(\n",
    "    plot_poles,\n",
    "    real_pole1=widgets.FloatSlider(min=-2, max=2, step=0.1, value=0, description='Real Pole 1'),\n",
    "    imag_pole1=widgets.FloatSlider(min=-2, max=2, step=0.1, value=0, description='Imag Pole 1'),\n",
    "    real_pole2=widgets.FloatSlider(min=-2, max=2, step=0.1, value=0, description='Real Pole 2'),\n",
    "    imag_pole2=widgets.FloatSlider(min=-2, max=2, step=0.1, value=0, description='Imag Pole 2'),\n",
    "    real_pole3=widgets.FloatSlider(min=-2, max=2, step=0.1, value=0, description='Real Pole 3'),\n",
    "    imag_pole3=widgets.FloatSlider(min=-2, max=2, step=0.1, value=0, description='Imag Pole 3')\n",
    ")\n",
    "\n",
    "pole_sliders\n"
   ]
  },
  {
   "cell_type": "markdown",
   "metadata": {},
   "source": [
    "## Stability Study in Discrete Time\n",
    "\n",
    "This interactive plot displays the pole-zero plot for a system in discrete time. You can adjust the real and imaginary parts of three poles using sliders. The stability of the system is determined based on the locations of the poles in the discrete-time domain.\n",
    "\n",
    "### Function Description:\n",
    "\n",
    "The left subplot shows the pole-zero plot with markers for each pole and a dashed unit circle. The real and imaginary axes are highlighted, and the plot is limited to the range of [-2, 2] for both axes.\n",
    "\n",
    "The right subplot provides stability information based on the pole locations. The stability can be categorized as follows:\n",
    "\n",
    "- **Instability:** The system is unstable if any pole is outside the unit circle.\n",
    "\n",
    "- **Stability:** The system is stable if all poles are inside the unit circle.\n",
    "\n",
    "- **Asymptotic Stability:** The system is asymptotically stable if all poles have magnitudes less than 1.\n",
    "\n",
    "### Instructions:\n",
    "\n",
    "Adjust the sliders for the real and imaginary parts of three poles to observe the changes in the pole-zero plot and stability information.\n",
    "\n",
    "### Sliders:\n",
    "\n",
    "- **Real Pole 1/2/3:** Adjust the real part of the first, second, and third poles.\n",
    "  - *Range:* -2 to 2 with a step size of 0.1.\n",
    "\n",
    "- **Imag Pole 1/2/3:** Adjust the imaginary part of the first, second, and third poles.\n",
    "  - *Range:* -2 to 2 with a step size of 0.1.\n",
    "\n",
    "Feel free to experiment with different pole configurations to understand the stability characteristics of the system in discrete time.\n"
   ]
  },
  {
   "cell_type": "code",
   "execution_count": 5,
   "metadata": {},
   "outputs": [
    {
     "data": {
      "application/vnd.jupyter.widget-view+json": {
       "model_id": "e416e5fd0c36423e956892ae99feff19",
       "version_major": 2,
       "version_minor": 0
      },
      "text/plain": [
       "interactive(children=(FloatSlider(value=0.0, description='Real Pole 1', max=2.0, min=-2.0), FloatSlider(value=…"
      ]
     },
     "execution_count": 5,
     "metadata": {},
     "output_type": "execute_result"
    }
   ],
   "source": [
    "import numpy as np\n",
    "import matplotlib.pyplot as plt\n",
    "from matplotlib.widgets import Slider\n",
    "from matplotlib.patches import Circle\n",
    "from ipywidgets import interactive, widgets\n",
    "\n",
    "def plot_poles(real_pole1, imag_pole1, real_pole2, imag_pole2, real_pole3, imag_pole3):\n",
    "    plt.figure(figsize=(10, 8))\n",
    "    gs = plt.GridSpec(1, 2, width_ratios=[4, 1])\n",
    "\n",
    "    # Plot poles\n",
    "    ax = plt.subplot(gs[0])\n",
    "    poles = np.array([[real_pole1, imag_pole1], [real_pole2, imag_pole2], [real_pole3, imag_pole3]])\n",
    "    colors = ['darkred', 'red', 'lightcoral']\n",
    "    for i in range(3):\n",
    "        ax.scatter(poles[i, 0], poles[i, 1], color=colors[i], marker='x', label=f'Pole {i+1}')\n",
    "\n",
    "    # Plot unit circle\n",
    "    unit_circle = Circle((0, 0), 1, fill=False, linestyle='dashed', color='gray', linewidth=1)\n",
    "    ax.add_patch(unit_circle)\n",
    "\n",
    "    # Highlight real and imaginary axes\n",
    "    ax.axhline(0, color='black', linewidth=0.5)\n",
    "    ax.axvline(0, color='black', linewidth=0.5)\n",
    "\n",
    "    # Set plot limits\n",
    "    ax.set_xlim([-2, 2])\n",
    "    ax.set_ylim([-2, 2])\n",
    "    ax.set_aspect('equal', 'box')\n",
    "\n",
    "    plt.title('Pole-Zero Plot')\n",
    "    plt.xlabel('Real')\n",
    "    plt.ylabel('Imaginary')\n",
    "    plt.legend()\n",
    "    plt.grid(True)\n",
    "\n",
    "    # Add stability information text box\n",
    "    stability_text = get_stability_text(real_pole1, imag_pole1, real_pole2, imag_pole2, real_pole3, imag_pole3)\n",
    "    text_ax = plt.subplot(gs[1])\n",
    "    text_ax.text(0.1, 0.5, stability_text, fontsize=12, verticalalignment='center')\n",
    "    text_ax.axis('off')\n",
    "\n",
    "    plt.show()\n",
    "\n",
    "def get_stability_text(real_pole1, imag_pole1, real_pole2, imag_pole2, real_pole3, imag_pole3):\n",
    "    \n",
    "    poles = [(real_pole1, imag_pole1), (real_pole2, imag_pole2), (real_pole3, imag_pole3)]\n",
    "    magnitudes = [np.abs(complex(real_part, imag_part)) for real_part, imag_part in poles]\n",
    "\n",
    "    if (magnitudes[0] > 1 or magnitudes[1] > 1 or magnitudes[2] > 1) or ((magnitudes[0] == 1 and magnitudes[1] == 1 and real_pole1 == real_pole2 and imag_pole1 == imag_pole2) or\n",
    "        (magnitudes[0] == 1 and magnitudes[2] == 1 and real_pole1 == real_pole3 and imag_pole1 == imag_pole3) or\n",
    "        (magnitudes[1] == 1 and magnitudes[2] == 1 and real_pole2 == real_pole3 and imag_pole2 == imag_pole3)):\n",
    "        return \"Instability\"\n",
    "    elif (magnitudes[0] < 1 and magnitudes[1] < 1 and magnitudes[2] < 1):\n",
    "        return \"Asymptotic Stability\"\n",
    "    else:\n",
    "        return \"Stability\"\n",
    "\n",
    "# Create sliders for poles\n",
    "pole_sliders = interactive(\n",
    "    plot_poles,\n",
    "    real_pole1=widgets.FloatSlider(min=-2, max=2, step=0.1, value=0, description='Real Pole 1'),\n",
    "    imag_pole1=widgets.FloatSlider(min=-2, max=2, step=0.1, value=0, description='Imag Pole 1'),\n",
    "    real_pole2=widgets.FloatSlider(min=-2, max=2, step=0.1, value=0, description='Real Pole 2'),\n",
    "    imag_pole2=widgets.FloatSlider(min=-2, max=2, step=0.1, value=0, description='Imag Pole 2'),\n",
    "    real_pole3=widgets.FloatSlider(min=-2, max=2, step=0.1, value=0, description='Real Pole 3'),\n",
    "    imag_pole3=widgets.FloatSlider(min=-2, max=2, step=0.1, value=0, description='Imag Pole 3')\n",
    ")\n",
    "\n",
    "pole_sliders\n"
   ]
  },
  {
   "cell_type": "markdown",
   "metadata": {},
   "source": [
    "<center> <h1> Mode of evolution </h1> </center>"
   ]
  },
  {
   "cell_type": "markdown",
   "metadata": {},
   "source": [
    "# Contiuous Time Domain\n",
    "\n",
    "In control systems, the **natural mode** in continuous time is associated with different modes of evolution, each characterized by distinct expressions. These modes represent the behavior of the system over time and are crucial in analyzing the system's response.\n",
    "\n",
    "The three types of natural modes are:\n",
    "\n",
    "1. **Exponential Decay Mode:** Represented by the term e^(p_i * t), where p_i are the poles of the transfer function. This mode describes a decaying exponential response without oscillations.\n",
    "\n",
    "2. **Exponential Growth Mode:** Represented by the term t * e^(p_i * t), this mode indicates exponential growth with time.\n",
    "\n",
    "3. **Oscillatory Mode:** Represented by the term e^(alpha * t) * cos(omega * t), where alpha and omega are parameters associated with the poles. This mode introduces oscillations in the system response.\n",
    "\n",
    "The time-domain expression for the natural mode is given by:\n",
    "\n",
    "y(t) = Σ A_i * Mode_i(t)\n",
    "\n",
    "where:\n",
    "- Mode_i(t) represents one of the three natural modes,\n",
    "- A_i are constants determined by the initial conditions.\n",
    "\n",
    "Understanding these natural modes provides valuable insights into the system's behavior and is fundamental in control system analysis and design.\n"
   ]
  },
  {
   "cell_type": "code",
   "execution_count": 26,
   "metadata": {},
   "outputs": [
    {
     "data": {
      "application/vnd.jupyter.widget-view+json": {
       "model_id": "d5931ff145574b2ca028c76593561a60",
       "version_major": 2,
       "version_minor": 0
      },
      "text/plain": [
       "interactive(children=(FloatSlider(value=1.0, description='lambda_val', max=2.0, min=-2.0), Output()), _dom_cla…"
      ]
     },
     "metadata": {},
     "output_type": "display_data"
    },
    {
     "data": {
      "application/vnd.jupyter.widget-view+json": {
       "model_id": "502a9d4e936441baba0271624dd4e94d",
       "version_major": 2,
       "version_minor": 0
      },
      "text/plain": [
       "interactive(children=(FloatSlider(value=1.0, description='lambda_val', max=2.0, min=-2.0), Output()), _dom_cla…"
      ]
     },
     "metadata": {},
     "output_type": "display_data"
    },
    {
     "data": {
      "application/vnd.jupyter.widget-view+json": {
       "model_id": "1eee265829924c10b8831a0d8baf9d02",
       "version_major": 2,
       "version_minor": 0
      },
      "text/plain": [
       "interactive(children=(FloatSlider(value=1.0, description='alpha', max=2.0, min=-2.0), FloatSlider(value=1.0, d…"
      ]
     },
     "metadata": {},
     "output_type": "display_data"
    },
    {
     "data": {
      "text/plain": [
       "<function __main__.plot_complex_exponential(alpha, omega)>"
      ]
     },
     "execution_count": 26,
     "metadata": {},
     "output_type": "execute_result"
    }
   ],
   "source": [
    "import numpy as np\n",
    "import matplotlib.pyplot as plt\n",
    "import ipywidgets as widgets\n",
    "from ipywidgets import interact\n",
    "\n",
    "# First Plot: exp(lambda*t)\n",
    "def plot_exponential(lambda_val):\n",
    "    t = np.linspace(0, 5, 100)\n",
    "    y = np.exp(lambda_val * t)\n",
    "\n",
    "    plt.plot(t, y)\n",
    "    plt.title(f'Plot of exp(lambda*t)')\n",
    "    plt.xlabel('Time')\n",
    "    plt.ylabel('Amplitude')\n",
    "    plt.grid(True)\n",
    "    plt.show()\n",
    "\n",
    "interact(plot_exponential, lambda_val=widgets.FloatSlider(min=-2, max=2, step=0.1, value=1))\n",
    "\n",
    "\n",
    "# Second Plot: t*exp(lambda*t)\n",
    "def plot_t_exponential(lambda_val):\n",
    "    t = np.linspace(0, 5, 100)\n",
    "    y = t * np.exp(lambda_val * t)\n",
    "\n",
    "    plt.plot(t, y)\n",
    "    plt.title(f'Plot of t*exp(lambda*t)')\n",
    "    plt.xlabel('Time')\n",
    "    plt.ylabel('Amplitude')\n",
    "    plt.grid(True)\n",
    "    plt.show()\n",
    "\n",
    "interact(plot_t_exponential, lambda_val=widgets.FloatSlider(min=-2, max=2, step=0.1, value=1))\n",
    "\n",
    "\n",
    "# Third Plot: exp(alpha*t) * cos(omega*t)\n",
    "def plot_complex_exponential(alpha, omega):\n",
    "    t = np.linspace(0, 5, 100)\n",
    "    y = np.exp(alpha * t) * np.cos(omega * t)\n",
    "    u = np.exp(alpha * t)\n",
    "\n",
    "    plt.plot(t, y, label='exp(alpha*t) * cos(omega*t)')\n",
    "    plt.plot(t, u, 'r--')\n",
    "    plt.plot(t, -u, 'r--')\n",
    "    plt.title(f'Plot of exp(alpha*t) * cos(omega*t)')\n",
    "    plt.xlabel('Time')\n",
    "    plt.ylabel('Amplitude')\n",
    "    plt.legend()\n",
    "    plt.grid(True)\n",
    "    plt.show()\n",
    "\n",
    "interact(plot_complex_exponential, alpha=widgets.FloatSlider(min=-2, max=2, step=0.1, value=1),\n",
    "         omega=widgets.FloatSlider(min=0, max=10, step=0.1, value=1))\n"
   ]
  },
  {
   "cell_type": "markdown",
   "metadata": {},
   "source": [
    "# Discrete Time Domain\n",
    "\n",
    "In control systems, the **natural mode** in discrete time is associated with different modes of evolution, each characterized by distinct expressions. These modes represent the behavior of the system over discrete time intervals and are crucial in analyzing the system's response.\n",
    "\n",
    "The three types of natural modes in discrete time are:\n",
    "\n",
    "1. **Exponential Decay Mode:** Represented by the term λ^k, where λ is a parameter associated with the poles of the transfer function. This mode describes a decaying response without oscillations.\n",
    "\n",
    "2. **Exponential Growth Mode:** Represented by the term k * λ^(k-1), this mode indicates exponential growth over discrete time.\n",
    "\n",
    "3. **Oscillatory Mode:** Represented by the term |λ|^k * cos(θ * k), where λ and θ are parameters associated with the poles. This mode introduces oscillations in the system response over discrete time intervals.\n",
    "\n",
    "The time-domain expression for the natural mode in discrete time is given by:\n",
    "\n",
    "y(k) = Σ A_i * Mode_i(k)\n",
    "\n",
    "where:\n",
    "- Mode_i(k) represents one of the three natural modes in discrete time,\n",
    "- A_i are constants determined by the initial conditions.\n",
    "\n",
    "Understanding these natural modes in discrete time provides valuable insights into the system's behavior and is fundamental in control system analysis and design.\n"
   ]
  },
  {
   "cell_type": "code",
   "execution_count": 33,
   "metadata": {},
   "outputs": [
    {
     "data": {
      "application/vnd.jupyter.widget-view+json": {
       "model_id": "6290e95496664d87ad91c5a694445dfe",
       "version_major": 2,
       "version_minor": 0
      },
      "text/plain": [
       "interactive(children=(FloatSlider(value=1.0, description='lambda_val', max=2.0, min=-2.0), Output()), _dom_cla…"
      ]
     },
     "metadata": {},
     "output_type": "display_data"
    },
    {
     "data": {
      "application/vnd.jupyter.widget-view+json": {
       "model_id": "e5b1a9d9e2db4471b40046492f67dfb0",
       "version_major": 2,
       "version_minor": 0
      },
      "text/plain": [
       "interactive(children=(FloatSlider(value=1.0, description='lambda_val', max=2.0, min=-2.0), Output()), _dom_cla…"
      ]
     },
     "metadata": {},
     "output_type": "display_data"
    },
    {
     "data": {
      "application/vnd.jupyter.widget-view+json": {
       "model_id": "72cefd8845f944dc8c1c5252bf34891f",
       "version_major": 2,
       "version_minor": 0
      },
      "text/plain": [
       "interactive(children=(FloatSlider(value=1.0, description='lambda_val', max=2.0, min=-2.0), FloatSlider(value=0…"
      ]
     },
     "metadata": {},
     "output_type": "display_data"
    },
    {
     "data": {
      "text/plain": [
       "<function __main__.plot_abs_lambda_power_k_cos_theta_k(lambda_val, theta)>"
      ]
     },
     "execution_count": 33,
     "metadata": {},
     "output_type": "execute_result"
    }
   ],
   "source": [
    "import numpy as np\n",
    "import matplotlib.pyplot as plt\n",
    "import ipywidgets as widgets\n",
    "from ipywidgets import interact\n",
    "\n",
    "# First Plot: lambda^k\n",
    "def plot_lambda_power_k(lambda_val):\n",
    "    k_values = np.arange(0, 10)\n",
    "    y = lambda_val**k_values\n",
    "\n",
    "    plt.scatter(k_values, y)\n",
    "    plt.vlines(k_values, 0, y, linestyle='--', alpha=0.5)  # Draw vertical lines\n",
    "    plt.title(f'Plot of lambda^k')\n",
    "    plt.xlabel('k (Discrete Time)')\n",
    "    plt.ylabel('Amplitude')\n",
    "    plt.grid(True)\n",
    "    plt.show()\n",
    "\n",
    "interact(plot_lambda_power_k, lambda_val=widgets.FloatSlider(min=-2, max=2, step=0.1, value=1))\n",
    "\n",
    "\n",
    "# Second Plot: k * lambda^(k-1)\n",
    "def plot_k_lambda_power_k_minus_1(lambda_val):\n",
    "    k_values = np.arange(0, 10)\n",
    "    y = k_values * lambda_val**(k_values-1)\n",
    "\n",
    "    plt.scatter(k_values, y)\n",
    "    plt.vlines(k_values, 0, y, linestyle='--', alpha=0.5)  # Draw vertical lines\n",
    "    plt.title(f'Plot of k * lambda^(k-1)')\n",
    "    plt.xlabel('k (Discrete Time)')\n",
    "    plt.ylabel('Amplitude')\n",
    "    plt.grid(True)\n",
    "    plt.show()\n",
    "\n",
    "interact(plot_k_lambda_power_k_minus_1, lambda_val=widgets.FloatSlider(min=-2, max=2, step=0.1, value=1))\n",
    "\n",
    "\n",
    "# Third Plot: abs(lambda)^(k)*cos(theta*k)\n",
    "def plot_abs_lambda_power_k_cos_theta_k(lambda_val, theta):\n",
    "    k_values = np.arange(0, 10)\n",
    "    y = np.abs(lambda_val)**k_values * np.cos(theta * k_values)\n",
    "\n",
    "    plt.scatter(k_values, y)\n",
    "    plt.vlines(k_values, 0, y, linestyle='--', alpha=0.5)  # Draw vertical lines\n",
    "    plt.title(f'Plot of abs(lambda)^(k)*cos(theta*k)')\n",
    "    plt.xlabel('k (Discrete Time)')\n",
    "    plt.ylabel('Amplitude')\n",
    "    plt.grid(True)\n",
    "    plt.show()\n",
    "\n",
    "interact(plot_abs_lambda_power_k_cos_theta_k, lambda_val=widgets.FloatSlider(min=-2, max=2, step=0.1, value=1),\n",
    "         theta=widgets.FloatSlider(min=0, max=2*np.pi, step=0.1, value=0))\n"
   ]
  }
 ],
 "metadata": {
  "kernelspec": {
   "display_name": "Python 3",
   "language": "python",
   "name": "python3"
  },
  "language_info": {
   "codemirror_mode": {
    "name": "ipython",
    "version": 3
   },
   "file_extension": ".py",
   "mimetype": "text/x-python",
   "name": "python",
   "nbconvert_exporter": "python",
   "pygments_lexer": "ipython3",
   "version": "3.9.5"
  }
 },
 "nbformat": 4,
 "nbformat_minor": 2
}
