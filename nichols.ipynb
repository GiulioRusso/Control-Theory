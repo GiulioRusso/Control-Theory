{
 "cells": [
  {
   "cell_type": "markdown",
   "metadata": {},
   "source": [
    "# Nichols Plot\n",
    "\n",
    "The **Nichols Plot** is a graphical representation of the frequency response of a system in the complex plane, showing the variation of magnitude and phase with frequency. It is useful for analyzing the stability and performance of control systems.\n",
    "\n",
    "**Stability Margins:**\n",
    "- **Gain Margin (GM):** It represents the factor by which the gain of the system can be increased before the system becomes unstable. A higher gain margin indicates greater stability.\n",
    "- **Phase Margin (PM):** It is the amount by which the phase of the system can be increased before the system becomes unstable. A higher phase margin indicates greater stability.\n",
    "\n",
    "In the Nichols Plot:\n",
    "- **Gain Margin:** The gain margin is the distance in decibels between the magnitude plot and the 0 dB line (unity gain) at the phase crossover frequency.\n",
    "- **Phase Margin:** The phase margin is the distance in degrees between the phase plot and the -180° line (180 degrees out of phase) at the magnitude crossover frequency.\n",
    "\n",
    "**Significance:**\n",
    "- A system is considered stable if it has positive gain and phase margins.\n",
    "- Stability margins provide insights into the robustness of the system. Larger margins indicate a more robust and stable system.\n",
    "- The Nichols Plot helps engineers visualize the trade-off between gain and phase, aiding in the design and tuning of control systems.\n",
    "\n",
    "<br>\n",
    "<img src=\"images/nichols.png\" alt=\"Nichols Plot\" width=\"40%\" height=\"40%\">"
   ]
  },
  {
   "cell_type": "code",
   "execution_count": 22,
   "metadata": {},
   "outputs": [
    {
     "data": {
      "application/vnd.jupyter.widget-view+json": {
       "model_id": "70a100d03f0f4afcaf6df60d0582de64",
       "version_major": 2,
       "version_minor": 0
      },
      "text/plain": [
       "interactive(children=(FloatSlider(value=1.0, description='zero', max=5.0, min=-5.0), FloatSlider(value=-1.0, d…"
      ]
     },
     "metadata": {},
     "output_type": "display_data"
    },
    {
     "data": {
      "text/plain": [
       "<function __main__.plot_nichols(zero, pole1, pole2, K)>"
      ]
     },
     "execution_count": 22,
     "metadata": {},
     "output_type": "execute_result"
    }
   ],
   "source": [
    "import numpy as np\n",
    "import matplotlib.pyplot as plt\n",
    "import ipywidgets as widgets\n",
    "from ipywidgets import interact\n",
    "import control as ctrl\n",
    "\n",
    "def plot_nichols(zero, pole1, pole2, K):\n",
    "    # Define the transfer function G(s) = K * (s - zero) / [(s - pole1) * (s - pole2)]\n",
    "    G = ctrl.TransferFunction([K, - K * zero], [1, -(pole1 + pole2), pole1 * pole2])\n",
    "\n",
    "    # Nichols plot\n",
    "    plt.figure()\n",
    "    ctrl.nichols_plot(G)\n",
    "\n",
    "    plt.figure()\n",
    "    ctrl.bode_plot(G)\n",
    "\n",
    "    plt.grid(True)\n",
    "    plt.show()\n",
    "\n",
    "# Create interactive sliders for zero, pole1, and pole2\n",
    "interact(plot_nichols,\n",
    "         K=widgets.FloatSlider(min=0.1, max=5, step=0.1, value=1),\n",
    "         zero=widgets.FloatSlider(min=-5, max=5, step=0.1, value=1),\n",
    "         pole1=widgets.FloatSlider(min=-5, max=5, step=0.1, value=-1),\n",
    "         pole2=widgets.FloatSlider(min=-5, max=5, step=0.1, value=-1))\n"
   ]
  }
 ],
 "metadata": {
  "kernelspec": {
   "display_name": "Python 3",
   "language": "python",
   "name": "python3"
  },
  "language_info": {
   "codemirror_mode": {
    "name": "ipython",
    "version": 3
   },
   "file_extension": ".py",
   "mimetype": "text/x-python",
   "name": "python",
   "nbconvert_exporter": "python",
   "pygments_lexer": "ipython3",
   "version": "3.9.5"
  }
 },
 "nbformat": 4,
 "nbformat_minor": 2
}
