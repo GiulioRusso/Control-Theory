{
 "cells": [
  {
   "cell_type": "markdown",
   "metadata": {},
   "source": [
    "# Root Locus\n",
    "\n",
    "The root locus is a graphical representation of the possible locations of the closed-loop poles of a system as a parameter, often a proportional gain (K), varies. It is a powerful tool used in control system analysis and design to understand the stability and transient response of a system.\n",
    "\n",
    "The root locus analysis begins with an open-loop transfer function, typically represented as K • H(s), where H(s) is the plant transfer function, and K is the controller transfer function.\n",
    "\n",
    "<img src=\"images/root-locus-schema.png\" alt=\"Root Locus Schema\" width=\"30%\" height=\"30%\">\n",
    "\n",
    "The closed-loop poles of a system are the roots of the characteristic equation, which is formed by setting the denominator of the closed-loop transfer function equal to zero. The solution to this equation are the Root Locus. Since this relationship between s and K can't be explicit, it is necessary to track the Root Locus.\n",
    "\n",
    "<img src=\"images/characteristic-equation.png\" alt=\"Characteristic equation\" width=\"30%\" height=\"30%\">\n",
    "\n",
    "Follows the main rules to track it by hand:\n",
    "\n",
    "1. **Identify 'n' poles and 'm' zeros:** Evaluate Poles and Zeros from the G(s). The Root Locus has n branches and it is symmetric to the real axis.\n",
    "2. **Split Positive and Negative Root Locus:** \n",
    "    - Counting an even number of poles and zeros on the right, this is Negative Root Locus. Complex-conjugate pairs of poles and zeros are not counted, since they contribute no net angle to the real axis.\n",
    "    - Counting an odd or null number of poles and zeros on the right, this is Positive Root Locus. Complex-conjugate pairs of poles and zeros are not counted, since they contribute no net angle to the real axis.\n",
    "3. **Direction of Positive and Negative Root Locus:** \n",
    "    - Positive Root Locus go towards the zero. On the zero K is infinite. Negative Root Locus go away from the zero.\n",
    "    <br><img src=\"images/zero-root-locus.png\" alt=\"Zero Root Locus\" width=\"30%\" height=\"30%\">\n",
    "    - Complex-conjugate zeros, the angle of arrival of the Positive Root Locus is:\n",
    "    <br><img src=\"images/angle-arrival-zeros-positive-root-locus.png\" alt=\"Angle Arrival to zero Positive Root Locus\" width=\"30%\" height=\"30%\">\n",
    "    - Negative Root Locus go towards the pole. On the pole K is zero. Positive Root Locus go away from the pole.\n",
    "    <br><img src=\"images/pole-root-locus.png\" alt=\"Pole Root Locus\" width=\"30%\" height=\"30%\">\n",
    "    - Complex-conjugate poles, the angle of departure of the Positive Root Locus is:\n",
    "   <br> <img src=\"images/angle-departure-poles-positive-root-locus.png\" alt=\"Angle Departure from pole Positive Root Locus\" width=\"30%\" height=\"30%\">\n",
    "<br><br>Example:\n",
    "    <br><img src=\"images/example-angle-departure-evaluation.png\" alt=\"Example Angle Departure Root Locus\" width=\"30%\" height=\"30%\">\n",
    "4. **Branch balance:**\n",
    "    - m branches of Positive Root Locus converge on zeros. n - m branches of Positive Root Locus converge to the infinity.\n",
    "    - n branches of Negative Root Locus converge on poles. n - m branches of Negative Root Locus converge to the infinity.\n",
    "    - From each zero or pole, diverge a number of branches equals to their order\n",
    "5. **Asymptotes:**\n",
    "    - n - m asymptotes for each Positive and Negative Root Locus\n",
    "    - Asymptotes of Positive Root Locus break the Gauss plane with equal angles\n",
    "    <br><img src=\"images/angle-asymptotes-positive-root-locus.png\" alt=\"Angle Asymptotes Positive Root Locus\" width=\"30%\" height=\"30%\">\n",
    "    - Asymptotes of Negative Root Locus break the Gauss plane with equal angles\n",
    "    <br><img src=\"images/angle-asymptotes-negative-root-locus.png\" alt=\"Angle Asymptotes Negative Root Locus\" width=\"30%\" height=\"30%\">\n",
    "    - Asymptotes of Positive and Negative Root Locus break the Gauss plane with equal angles\n",
    "    <br><img src=\"images/asymptotes-center.png\" alt=\"Asymptotes center formula\" width=\"30%\" height=\"30%\">\n",
    "6. **Break-Away and Break-In points:**\n",
    "    - Break points equation:\n",
    "    <br><img src=\"images/break-points.png\" alt=\"Break points equation\" width=\"30%\" height=\"30%\">\n",
    "    \n"
   ]
  },
  {
   "cell_type": "code",
   "execution_count": 31,
   "metadata": {},
   "outputs": [
    {
     "data": {
      "application/vnd.jupyter.widget-view+json": {
       "model_id": "485f3dd070da4a9b90eb7a4dfc0427c9",
       "version_major": 2,
       "version_minor": 0
      },
      "text/plain": [
       "interactive(children=(FloatSlider(value=1.0, description='K:', max=2.0, min=0.1), FloatSlider(value=-1.0, desc…"
      ]
     },
     "metadata": {},
     "output_type": "display_data"
    }
   ],
   "source": [
    "import numpy as np\n",
    "import control as ctrl\n",
    "import matplotlib.pyplot as plt\n",
    "import ipywidgets as widgets\n",
    "from ipywidgets import interactive, FloatSlider, Layout, VBox\n",
    "\n",
    "def plot_root_locus(K, zero1, zero2, pole1, pole2, pole3):\n",
    "    num = np.poly([zero1, zero2])\n",
    "    den = np.poly([pole1, pole2, pole3])\n",
    "\n",
    "    system = ctrl.TransferFunction(K * num, den)\n",
    "\n",
    "    plt.figure(figsize=(8, 6))\n",
    "    ctrl.root_locus(system, grid=True)\n",
    "    plt.title('Root Locus')\n",
    "    plt.xlabel('Real Axis')\n",
    "    plt.ylabel('Imaginary Axis')\n",
    "    plt.xlim(-5, 5)\n",
    "    plt.grid(True)\n",
    "    plt.show()\n",
    "\n",
    "# Create sliders for the system parameters\n",
    "K_slider = FloatSlider(value=1.0, min=0.1, max=2.0, step=0.1, description='K:')\n",
    "zero1_slider = FloatSlider(value=-1, min=-5, max=5, step=0.1, description='Zero 1')\n",
    "zero2_slider = FloatSlider(value=-2, min=-5, max=5, step=0.1, description='Zero 2')\n",
    "pole1_slider = FloatSlider(value=-3, min=-5, max=5, step=0.1, description='Pole 1')\n",
    "pole2_slider = FloatSlider(value=-4, min=-5, max=5, step=0.1, description='Pole 2')\n",
    "pole3_slider = FloatSlider(value=-5, min=-5, max=5, step=0.1, description='Pole 3')\n",
    "\n",
    "# Create interactive plot using interactive\n",
    "interactive_plot = interactive(plot_root_locus,\n",
    "                                K=K_slider,\n",
    "                                zero1=zero1_slider,\n",
    "                                zero2=zero2_slider,\n",
    "                                pole1=pole1_slider,\n",
    "                                pole2=pole2_slider,\n",
    "                                pole3=pole3_slider)\n",
    "output = interactive_plot.children[-1]\n",
    "\n",
    "# Display the interactive plot\n",
    "display(interactive_plot)"
   ]
  },
  {
   "cell_type": "markdown",
   "metadata": {},
   "source": [
    "<center> <h1> Control via Root Locus </h1> </center>\n",
    "\n",
    "The Root Locus can be used to design a controller, C(s), that stabilizes the closed-loop system."
   ]
  },
  {
   "cell_type": "markdown",
   "metadata": {},
   "source": [
    "# Case n - m = 1\n",
    "\n",
    "In case of a plant with n - m = 1, it has only one asymptote, coincident with the negative real semi-axis. To have all closed-loop roots with negative real part is sufficient to give a controller C(s) = Kc sufficiently high values such that the Root Locus will be all on the negative real semi-axis, where all the roots will be asymptotic stable.\n",
    "\n",
    "<img src=\"images/controller-n-m=1.png\" alt=\"Controller n - m = 1\" width=\"20%\" height=\"20%\">\n"
   ]
  },
  {
   "cell_type": "code",
   "execution_count": 34,
   "metadata": {},
   "outputs": [
    {
     "data": {
      "application/vnd.jupyter.widget-view+json": {
       "model_id": "de9979586ed14fbf951936242eed0979",
       "version_major": 2,
       "version_minor": 0
      },
      "text/plain": [
       "interactive(children=(FloatSlider(value=1.0, description='Kc:', max=5.0, min=-5.0), Output()), _dom_classes=('…"
      ]
     },
     "metadata": {},
     "output_type": "display_data"
    }
   ],
   "source": [
    "import numpy as np\n",
    "import control as ctrl\n",
    "import matplotlib.pyplot as plt\n",
    "import ipywidgets as widgets\n",
    "from ipywidgets import interactive, FloatSlider, Layout, VBox\n",
    "\n",
    "# Plant transfer function (P(s))\n",
    "numerator = [1, -1]\n",
    "denominator = [1, -2, 1]  # Two poles at s=1, one zero at s=1\n",
    "\n",
    "plant = ctrl.TransferFunction(numerator, denominator)\n",
    "\n",
    "def plot_root_locus(Kc):\n",
    "    # Controller transfer function (C(s))\n",
    "    controller = ctrl.TransferFunction([Kc], [1])\n",
    "\n",
    "    # Closed-loop transfer function T(s) = C(s) * P(s) / (1 + C(s) * P(s))\n",
    "    closed_loop_system = ctrl.feedback(plant * controller)\n",
    "\n",
    "    # Calculate and plot the root locus\n",
    "    plt.figure(figsize=(8, 6))\n",
    "    ctrl.root_locus(closed_loop_system, grid=True)\n",
    "    plt.title('Root Locus')\n",
    "    plt.xlabel('Real Axis')\n",
    "    plt.ylabel('Imaginary Axis')\n",
    "    plt.xlim(-5, 5)\n",
    "    plt.grid(True)\n",
    "    plt.show()\n",
    "\n",
    "# Create slider for the controller gain (Kc)\n",
    "Kc_slider = FloatSlider(value=1.0, min=-5.0, max=5.0, step=0.1, description='Kc:')\n",
    "\n",
    "# Create interactive plot using interactive\n",
    "interactive_plot = interactive(plot_root_locus, Kc=Kc_slider)\n",
    "output = interactive_plot.children[-1]\n",
    "\n",
    "# Display the interactive plot\n",
    "display(interactive_plot)\n",
    "\n"
   ]
  },
  {
   "cell_type": "markdown",
   "metadata": {},
   "source": [
    "# Case n - m = 2\n",
    "\n",
    "In this case the positive locus of the roots has two vertical asymptotes passing through the barycenter σb.\n",
    "- If σb < 0, to have all closed-loop roots with negative real part is sufficient to give Kc sufficiently high values as case n - m = 1.\n",
    "- If σb > 0, one must first move the center of the asymptotes into the left open semi plane of the complex plane. To do this we use a pole-zero pair (-pb, -zb) with positive zb and pb and pb > zb, which shifts σb without altering the number of asymptotes\n",
    "\n",
    "<img src=\"images/centroid-shift.png\" alt=\"Centroid shift\" width=\"20%\" height=\"20%\">\n",
    "<br><img src=\"images/controller-n-m=2.png\" alt=\"Controller n - m = 2\" width=\"20%\" height=\"20%\">\n",
    "\n"
   ]
  },
  {
   "cell_type": "code",
   "execution_count": 44,
   "metadata": {},
   "outputs": [
    {
     "data": {
      "application/vnd.jupyter.widget-view+json": {
       "model_id": "42b1b8993b3f43c5a4715cdca42575bf",
       "version_major": 2,
       "version_minor": 0
      },
      "text/plain": [
       "interactive(children=(FloatSlider(value=1.0, description='Kc:', min=-5.0), FloatSlider(value=0.1, description=…"
      ]
     },
     "metadata": {},
     "output_type": "display_data"
    }
   ],
   "source": [
    "import numpy as np\n",
    "import control as ctrl\n",
    "import matplotlib.pyplot as plt\n",
    "import ipywidgets as widgets\n",
    "from ipywidgets import interactive, FloatSlider, Layout, VBox\n",
    "\n",
    "# Plant transfer function (P(s))\n",
    "numerator = [1]\n",
    "denominator = [1, -2, 1]  # Two poles at s=1, one zero at s=1\n",
    "plant = ctrl.TransferFunction(numerator, denominator)\n",
    "\n",
    "def plot_root_locus(Kc, zb, pb):\n",
    "    # Controller transfer function (C(s))\n",
    "    controller = ctrl.TransferFunction([Kc, -Kc * zb], [1, -pb])\n",
    "\n",
    "    # Closed-loop transfer function T(s) = C(s) * P(s) / (1 + C(s) * P(s))\n",
    "    closed_loop_system = ctrl.feedback(plant * controller)\n",
    "\n",
    "    # Calculate and plot the root locus\n",
    "    plt.figure(figsize=(8, 6))\n",
    "    ctrl.root_locus(closed_loop_system, grid=True)\n",
    "    plt.title('Root Locus')\n",
    "    plt.xlabel('Real Axis')\n",
    "    plt.ylabel('Imaginary Axis')\n",
    "    plt.xlim(-10, 10)\n",
    "    plt.grid(True)\n",
    "    plt.show()\n",
    "\n",
    "# Create sliders for the controller parameters\n",
    "Kc_slider = FloatSlider(value=1.0, min=-5.0, max=100.0, step=0.1, description='Kc:')\n",
    "zb_slider = FloatSlider(value=0.1, min=0.1, max=100.0, step=0.1, description='zb:')\n",
    "pb_slider = FloatSlider(value=1.0, min=0.1, max=100.0, step=0.1, description='pb:')\n",
    "\n",
    "# Create interactive plot using interactive\n",
    "interactive_plot = interactive(plot_root_locus, Kc=Kc_slider, zb=zb_slider, pb=pb_slider)\n",
    "output = interactive_plot.children[-1]\n",
    "\n",
    "# Display the interactive plot\n",
    "display(interactive_plot)\n"
   ]
  },
  {
   "cell_type": "markdown",
   "metadata": {},
   "source": [
    "# Case n - m = 3\n",
    "\n",
    "In this case the procedure is to fall back to the case n - m = 2 by adding enough zeros. But a Controller with only zeros can't be phisically feasible. Thus, the same number of poles in high frequency (big time constant) are added\n",
    "\n",
    "<img src=\"images/controller-tmp-n-m>3.png\" alt=\"Temporary Controller\" width=\"30%\" height=\"30%\">\n",
    "<br><img src=\"images/controller-n-m>3.png\" alt=\"Controller n - m = 3\" width=\"30%\" height=\"30%\">\n",
    "\n"
   ]
  }
 ],
 "metadata": {
  "kernelspec": {
   "display_name": "Python 3",
   "language": "python",
   "name": "python3"
  },
  "language_info": {
   "codemirror_mode": {
    "name": "ipython",
    "version": 3
   },
   "file_extension": ".py",
   "mimetype": "text/x-python",
   "name": "python",
   "nbconvert_exporter": "python",
   "pygments_lexer": "ipython3",
   "version": "3.9.5"
  }
 },
 "nbformat": 4,
 "nbformat_minor": 2
}
