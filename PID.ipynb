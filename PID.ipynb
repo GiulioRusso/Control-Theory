{
 "cells": [
  {
   "cell_type": "markdown",
   "metadata": {},
   "source": [
    "# PID Step Response Plot\n",
    "\n",
    "This interactive plot displays the step response of a system controlled by a PID (Proportional-Integral-Derivative) controller. You can adjust the PID gains using the sliders and observe how they influence the system's step response.\n",
    "\n",
    "### Function Description:\n",
    "\n",
    "The system is represented by the transfer function:\n",
    "\n",
    "G(s) = (Kd * s^2 + Kp * s + Ki) / (s^3 + s^2 + s)\n",
    "\n",
    "where Kp, Ki, and Kd are the proportional, integral, and derivative gains, respectively.\n",
    "\n",
    "The general schema is:\n",
    "<br><img src=\"images/PID-schema.png\" alt=\"PID Schema\" width=\"30%\" height=\"40%\">\n",
    "<br>\n",
    "where the Controller is:\n",
    "<br><img src=\"images/PID-controller.png\" alt=\"PID Controller\" width=\"20%\" height=\"20%\">\n",
    "\n",
    "### Instructions:\n",
    "\n",
    "Adjust the sliders for Kp, Ki, and Kd to observe changes in the system's step response.\n"
   ]
  },
  {
   "cell_type": "code",
   "execution_count": 14,
   "metadata": {},
   "outputs": [
    {
     "data": {
      "application/vnd.jupyter.widget-view+json": {
       "model_id": "a4b3c45b8cff45fc86cc51667a1d1a62",
       "version_major": 2,
       "version_minor": 0
      },
      "text/plain": [
       "interactive(children=(FloatSlider(value=1.0, description='Kp:', max=10.0, min=-10.0), FloatSlider(value=0.0, d…"
      ]
     },
     "metadata": {},
     "output_type": "display_data"
    }
   ],
   "source": [
    "import numpy as np\n",
    "import matplotlib.pyplot as plt\n",
    "from scipy.signal import lti, step\n",
    "from matplotlib.backends.backend_agg import FigureCanvasAgg as FigureCanvas\n",
    "from ipywidgets import interactive, FloatSlider, Output, VBox, HBox\n",
    "\n",
    "def generate_pid_step_plot(Kp, Ki, Kd):\n",
    "\n",
    "    t_values = np.arange(0, 50, 0.1)\n",
    "    sys = lti([Kd, Kp, Ki], [1, 1, 1])\n",
    "    t, y = step(sys, T=t_values)\n",
    "\n",
    "    # Plotting\n",
    "    plt.figure(figsize=(8, 6))\n",
    "    plt.plot(t, y)\n",
    "    plt.title('PID Step Response')\n",
    "    plt.xlabel('Time')\n",
    "    plt.ylabel('Amplitude')\n",
    "    plt.grid(True)\n",
    "    plt.show()\n",
    "\n",
    "# Create sliders for PID gains\n",
    "Kp_slider = FloatSlider(value=1.0, min=-10, max=10, step=0.1, description='Kp:')\n",
    "Ki_slider = FloatSlider(value=0.0, min=-10, max=10, step=0.1, description='Ki:')\n",
    "Kd_slider = FloatSlider(value=0.0, min=-10, max=10, step=0.1, description='Kd:')\n",
    "\n",
    "# Use interactive_output to link sliders and plot function\n",
    "interactive_plot = interactive(generate_pid_step_plot, Kp=Kp_slider, Ki=Ki_slider, Kd=Kd_slider)\n",
    "output = interactive_plot.children[-1]\n",
    "\n",
    "# Display the interactive plot\n",
    "display(interactive_plot)\n"
   ]
  }
 ],
 "metadata": {
  "kernelspec": {
   "display_name": "Python 3",
   "language": "python",
   "name": "python3"
  },
  "language_info": {
   "codemirror_mode": {
    "name": "ipython",
    "version": 3
   },
   "file_extension": ".py",
   "mimetype": "text/x-python",
   "name": "python",
   "nbconvert_exporter": "python",
   "pygments_lexer": "ipython3",
   "version": "3.9.5"
  }
 },
 "nbformat": 4,
 "nbformat_minor": 2
}
